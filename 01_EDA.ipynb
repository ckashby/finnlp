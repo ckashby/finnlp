{
 "cells": [
  {
   "cell_type": "code",
   "execution_count": 92,
   "metadata": {},
   "outputs": [],
   "source": [
    "import pandas as pd \n",
    "import numpy as np\n",
    "import matplotlib.pyplot as plt\n",
    "\n",
    "import warnings\n",
    "warnings.filterwarnings(\"ignore\")"
   ]
  },
  {
   "cell_type": "code",
   "execution_count": 93,
   "metadata": {},
   "outputs": [
    {
     "name": "stdout",
     "output_type": "stream",
     "text": [
      "Merck (NYSE: MRK), known as MSD outside of the United States and Canada, today announced the completion of the acquisition of Harpoon Therapeutics, Inc. (Nasdaq: HARP). Harpoon is now a wholly-owned subsidiary of Merck, and Harpoon’s common stock will no longer be publicly traded or listed on the Nasdaq Stock Market. Harpoon’s lead candidate, MK-6070 (formerly known as HPN328), is a T-cell engager targeting delta-like ligand 3 (DLL3), an inhibitory canonical Notch ligand that is expressed at high levels in small cell lung cancer (SCLC) and neuroendocrine tumors. The safety, tolerability and pharmacokinetics of MK-6070 is currently being evaluated as monotherapy in a Phase 1/2 clinical trial (NCT04471727) in certain patients with advanced cancers associated with expression of DLL3. The study is also evaluating MK-6070 in combination with atezolizumab in certain patients with SCLC. In March 2022, the U.S. Food and Drug Administration (FDA) granted Orphan Drug Designation to MK-6070 for the treatment of SCLC.\n"
     ]
    }
   ],
   "source": [
    "# Define Merck text.\n",
    "text = 'Merck (NYSE: MRK), known as MSD outside of the United States and Canada, today announced the completion of the acquisition of Harpoon Therapeutics, Inc. (Nasdaq: HARP). Harpoon is now a wholly-owned subsidiary of Merck, and Harpoon’s common stock will no longer be publicly traded or listed on the Nasdaq Stock Market. Harpoon’s lead candidate, MK-6070 (formerly known as HPN328), is a T-cell engager targeting delta-like ligand 3 (DLL3), an inhibitory canonical Notch ligand that is expressed at high levels in small cell lung cancer (SCLC) and neuroendocrine tumors. The safety, tolerability and pharmacokinetics of MK-6070 is currently being evaluated as monotherapy in a Phase 1/2 clinical trial (NCT04471727) in certain patients with advanced cancers associated with expression of DLL3. The study is also evaluating MK-6070 in combination with atezolizumab in certain patients with SCLC. In March 2022, the U.S. Food and Drug Administration (FDA) granted Orphan Drug Designation to MK-6070 for the treatment of SCLC.'\n",
    "print(text)"
   ]
  },
  {
   "cell_type": "code",
   "execution_count": 94,
   "metadata": {},
   "outputs": [],
   "source": [
    "# import company news feed\n",
    "news_df = pd.read_parquet('./data/train.parquet')"
   ]
  },
  {
   "cell_type": "code",
   "execution_count": 95,
   "metadata": {},
   "outputs": [
    {
     "data": {
      "text/plain": [
       "(528, 7)"
      ]
     },
     "execution_count": 95,
     "metadata": {},
     "output_type": "execute_result"
    }
   ],
   "source": [
    "merc_news_df = news_df[news_df['article_headline'].str.contains('Merck')]\n",
    "merc_news_df.shape\n",
    "# news_df.columns"
   ]
  },
  {
   "cell_type": "code",
   "execution_count": 96,
   "metadata": {},
   "outputs": [
    {
     "data": {
      "text/plain": [
       "(492, 7)"
      ]
     },
     "execution_count": 96,
     "metadata": {},
     "output_type": "execute_result"
    }
   ],
   "source": [
    "merc_df = news_df[news_df['ticker']== 'MRK']\n",
    "merc_df.shape"
   ]
  },
  {
   "cell_type": "code",
   "execution_count": 97,
   "metadata": {},
   "outputs": [
    {
     "data": {
      "text/plain": [
       "ticker              0\n",
       "name                0\n",
       "type                0\n",
       "sector              0\n",
       "article_date        0\n",
       "article_headline    0\n",
       "label               0\n",
       "dtype: int64"
      ]
     },
     "execution_count": 97,
     "metadata": {},
     "output_type": "execute_result"
    }
   ],
   "source": [
    "merc_df.isna().sum()"
   ]
  },
  {
   "cell_type": "code",
   "execution_count": 98,
   "metadata": {},
   "outputs": [
    {
     "data": {
      "text/plain": [
       "Index(['ticker', 'name', 'type', 'sector', 'article_date', 'article_headline',\n",
       "       'label'],\n",
       "      dtype='object')"
      ]
     },
     "execution_count": 98,
     "metadata": {},
     "output_type": "execute_result"
    }
   ],
   "source": [
    "merc_df.columns"
   ]
  },
  {
   "cell_type": "code",
   "execution_count": 99,
   "metadata": {},
   "outputs": [],
   "source": [
    "merc_df.drop(columns=['ticker', 'name', 'type', 'sector'], inplace=True)"
   ]
  },
  {
   "cell_type": "code",
   "execution_count": 100,
   "metadata": {},
   "outputs": [
    {
     "data": {
      "text/plain": [
       "Index(['date', 'headline', 'sentiment'], dtype='object')"
      ]
     },
     "execution_count": 100,
     "metadata": {},
     "output_type": "execute_result"
    }
   ],
   "source": [
    "cols = {'article_date': 'date', 'article_headline': 'headline', 'label': 'sentiment'}\n",
    "merc_df.rename(columns=cols, inplace=True)\n",
    "merc_df.columns"
   ]
  },
  {
   "cell_type": "code",
   "execution_count": 101,
   "metadata": {},
   "outputs": [],
   "source": [
    "merc_df['date'] = pd.to_datetime(merc_df['date'])"
   ]
  },
  {
   "cell_type": "code",
   "execution_count": 102,
   "metadata": {},
   "outputs": [
    {
     "name": "stdout",
     "output_type": "stream",
     "text": [
      "<class 'pandas.core.frame.DataFrame'>\n",
      "DatetimeIndex: 492 entries, 2009-08-17 12:14:00+00:00 to 2020-06-11 14:22:00+00:00\n",
      "Data columns (total 2 columns):\n",
      " #   Column     Non-Null Count  Dtype \n",
      "---  ------     --------------  ----- \n",
      " 0   headline   492 non-null    object\n",
      " 1   sentiment  492 non-null    object\n",
      "dtypes: object(2)\n",
      "memory usage: 11.5+ KB\n"
     ]
    }
   ],
   "source": [
    "merc_df.set_index('date', inplace=True)\n",
    "merc_df.sort_index(inplace=True)\n",
    "merc_df.info()"
   ]
  },
  {
   "cell_type": "code",
   "execution_count": 103,
   "metadata": {},
   "outputs": [
    {
     "data": {
      "text/html": [
       "<div>\n",
       "<style scoped>\n",
       "    .dataframe tbody tr th:only-of-type {\n",
       "        vertical-align: middle;\n",
       "    }\n",
       "\n",
       "    .dataframe tbody tr th {\n",
       "        vertical-align: top;\n",
       "    }\n",
       "\n",
       "    .dataframe thead th {\n",
       "        text-align: right;\n",
       "    }\n",
       "</style>\n",
       "<table border=\"1\" class=\"dataframe\">\n",
       "  <thead>\n",
       "    <tr style=\"text-align: right;\">\n",
       "      <th></th>\n",
       "      <th>headline</th>\n",
       "      <th>sentiment</th>\n",
       "    </tr>\n",
       "    <tr>\n",
       "      <th>date</th>\n",
       "      <th></th>\n",
       "      <th></th>\n",
       "    </tr>\n",
       "  </thead>\n",
       "  <tbody>\n",
       "    <tr>\n",
       "      <th>2020-03-24 12:42:00+00:00</th>\n",
       "      <td>Argus Research Maintains Buy on Merck &amp; Co, Lo...</td>\n",
       "      <td>mildly bullish</td>\n",
       "    </tr>\n",
       "    <tr>\n",
       "      <th>2020-03-30 14:17:00+00:00</th>\n",
       "      <td>Shares of several healthcare companies are tra...</td>\n",
       "      <td>mildly bullish</td>\n",
       "    </tr>\n",
       "    <tr>\n",
       "      <th>2020-04-13 10:57:00+00:00</th>\n",
       "      <td>AstraZeneca and Merck Announce Approval of KOS...</td>\n",
       "      <td>mildly bullish</td>\n",
       "    </tr>\n",
       "    <tr>\n",
       "      <th>2020-04-16 10:08:00+00:00</th>\n",
       "      <td>Next 45 Days Will Be 'Most Critical Period' Fo...</td>\n",
       "      <td>neutral</td>\n",
       "    </tr>\n",
       "    <tr>\n",
       "      <th>2020-04-23 15:27:00+00:00</th>\n",
       "      <td>Shares of several healthcare companies are tra...</td>\n",
       "      <td>mildly bullish</td>\n",
       "    </tr>\n",
       "    <tr>\n",
       "      <th>2020-04-27 10:50:00+00:00</th>\n",
       "      <td>Merck and Institute for Systems Biology Collab...</td>\n",
       "      <td>mildly bullish</td>\n",
       "    </tr>\n",
       "    <tr>\n",
       "      <th>2020-04-28 12:40:00+00:00</th>\n",
       "      <td>Merck shares are trading lower after the compa...</td>\n",
       "      <td>mildly bearish</td>\n",
       "    </tr>\n",
       "    <tr>\n",
       "      <th>2020-04-28 18:48:00+00:00</th>\n",
       "      <td>A CURE For The Common Earnings Play</td>\n",
       "      <td>neutral</td>\n",
       "    </tr>\n",
       "    <tr>\n",
       "      <th>2020-04-29 15:04:00+00:00</th>\n",
       "      <td>Merck Analysts Focus On Fundamentals, Keytruda...</td>\n",
       "      <td>mildly bullish</td>\n",
       "    </tr>\n",
       "    <tr>\n",
       "      <th>2020-05-03 13:25:00+00:00</th>\n",
       "      <td>Attention Biotech Investors: Mark Your Calenda...</td>\n",
       "      <td>mildly bullish</td>\n",
       "    </tr>\n",
       "    <tr>\n",
       "      <th>2020-05-13 21:06:00+00:00</th>\n",
       "      <td>Merck Reports KEYTRUDA Plus Chemo Showed Stati...</td>\n",
       "      <td>mildly bullish</td>\n",
       "    </tr>\n",
       "    <tr>\n",
       "      <th>2020-05-21 17:18:00+00:00</th>\n",
       "      <td>51 Stocks Moving In Thursday's Mid-Day Session</td>\n",
       "      <td>neutral</td>\n",
       "    </tr>\n",
       "    <tr>\n",
       "      <th>2020-05-21 18:30:00+00:00</th>\n",
       "      <td>Mid-Afternoon Market Update: Dow Falls 50 Poin...</td>\n",
       "      <td>neutral</td>\n",
       "    </tr>\n",
       "    <tr>\n",
       "      <th>2020-05-22 09:26:00+00:00</th>\n",
       "      <td>64 Biggest Movers From Yesterday</td>\n",
       "      <td>neutral</td>\n",
       "    </tr>\n",
       "    <tr>\n",
       "      <th>2020-05-22 17:50:00+00:00</th>\n",
       "      <td>US Says Will Test Experimental Coronavirus Vac...</td>\n",
       "      <td>mildly bullish</td>\n",
       "    </tr>\n",
       "    <tr>\n",
       "      <th>2020-05-26 12:13:00+00:00</th>\n",
       "      <td>Benzinga Pro's Top 5 Stocks To Watch For Tues....</td>\n",
       "      <td>neutral</td>\n",
       "    </tr>\n",
       "    <tr>\n",
       "      <th>2020-05-26 14:48:00+00:00</th>\n",
       "      <td>Merck's Coronavirus Plan Of Attack: 2 Partners...</td>\n",
       "      <td>mildly bullish</td>\n",
       "    </tr>\n",
       "    <tr>\n",
       "      <th>2020-05-30 13:25:00+00:00</th>\n",
       "      <td>The Week Ahead In Biotech: ASCO, Menlo And Mer...</td>\n",
       "      <td>neutral</td>\n",
       "    </tr>\n",
       "    <tr>\n",
       "      <th>2020-06-01 12:39:00+00:00</th>\n",
       "      <td>'New Ebola epidemic' in northwest DR Congo: he...</td>\n",
       "      <td>mildly bearish</td>\n",
       "    </tr>\n",
       "    <tr>\n",
       "      <th>2020-06-11 14:22:00+00:00</th>\n",
       "      <td>Shares of several healthcare companies are tra...</td>\n",
       "      <td>mildly bearish</td>\n",
       "    </tr>\n",
       "  </tbody>\n",
       "</table>\n",
       "</div>"
      ],
      "text/plain": [
       "                                                                    headline  \\\n",
       "date                                                                           \n",
       "2020-03-24 12:42:00+00:00  Argus Research Maintains Buy on Merck & Co, Lo...   \n",
       "2020-03-30 14:17:00+00:00  Shares of several healthcare companies are tra...   \n",
       "2020-04-13 10:57:00+00:00  AstraZeneca and Merck Announce Approval of KOS...   \n",
       "2020-04-16 10:08:00+00:00  Next 45 Days Will Be 'Most Critical Period' Fo...   \n",
       "2020-04-23 15:27:00+00:00  Shares of several healthcare companies are tra...   \n",
       "2020-04-27 10:50:00+00:00  Merck and Institute for Systems Biology Collab...   \n",
       "2020-04-28 12:40:00+00:00  Merck shares are trading lower after the compa...   \n",
       "2020-04-28 18:48:00+00:00                A CURE For The Common Earnings Play   \n",
       "2020-04-29 15:04:00+00:00  Merck Analysts Focus On Fundamentals, Keytruda...   \n",
       "2020-05-03 13:25:00+00:00  Attention Biotech Investors: Mark Your Calenda...   \n",
       "2020-05-13 21:06:00+00:00  Merck Reports KEYTRUDA Plus Chemo Showed Stati...   \n",
       "2020-05-21 17:18:00+00:00     51 Stocks Moving In Thursday's Mid-Day Session   \n",
       "2020-05-21 18:30:00+00:00  Mid-Afternoon Market Update: Dow Falls 50 Poin...   \n",
       "2020-05-22 09:26:00+00:00                   64 Biggest Movers From Yesterday   \n",
       "2020-05-22 17:50:00+00:00  US Says Will Test Experimental Coronavirus Vac...   \n",
       "2020-05-26 12:13:00+00:00  Benzinga Pro's Top 5 Stocks To Watch For Tues....   \n",
       "2020-05-26 14:48:00+00:00  Merck's Coronavirus Plan Of Attack: 2 Partners...   \n",
       "2020-05-30 13:25:00+00:00  The Week Ahead In Biotech: ASCO, Menlo And Mer...   \n",
       "2020-06-01 12:39:00+00:00  'New Ebola epidemic' in northwest DR Congo: he...   \n",
       "2020-06-11 14:22:00+00:00  Shares of several healthcare companies are tra...   \n",
       "\n",
       "                                sentiment  \n",
       "date                                       \n",
       "2020-03-24 12:42:00+00:00  mildly bullish  \n",
       "2020-03-30 14:17:00+00:00  mildly bullish  \n",
       "2020-04-13 10:57:00+00:00  mildly bullish  \n",
       "2020-04-16 10:08:00+00:00         neutral  \n",
       "2020-04-23 15:27:00+00:00  mildly bullish  \n",
       "2020-04-27 10:50:00+00:00  mildly bullish  \n",
       "2020-04-28 12:40:00+00:00  mildly bearish  \n",
       "2020-04-28 18:48:00+00:00         neutral  \n",
       "2020-04-29 15:04:00+00:00  mildly bullish  \n",
       "2020-05-03 13:25:00+00:00  mildly bullish  \n",
       "2020-05-13 21:06:00+00:00  mildly bullish  \n",
       "2020-05-21 17:18:00+00:00         neutral  \n",
       "2020-05-21 18:30:00+00:00         neutral  \n",
       "2020-05-22 09:26:00+00:00         neutral  \n",
       "2020-05-22 17:50:00+00:00  mildly bullish  \n",
       "2020-05-26 12:13:00+00:00         neutral  \n",
       "2020-05-26 14:48:00+00:00  mildly bullish  \n",
       "2020-05-30 13:25:00+00:00         neutral  \n",
       "2020-06-01 12:39:00+00:00  mildly bearish  \n",
       "2020-06-11 14:22:00+00:00  mildly bearish  "
      ]
     },
     "execution_count": 103,
     "metadata": {},
     "output_type": "execute_result"
    }
   ],
   "source": [
    "merc_df.tail(20)"
   ]
  },
  {
   "cell_type": "code",
   "execution_count": 104,
   "metadata": {},
   "outputs": [],
   "source": [
    "merc_df.to_csv('./data/merc_news.csv')"
   ]
  },
  {
   "cell_type": "code",
   "execution_count": 105,
   "metadata": {},
   "outputs": [],
   "source": [
    "merc_df['headlength'] = merc_df['headline'].apply(len)"
   ]
  },
  {
   "cell_type": "code",
   "execution_count": 106,
   "metadata": {},
   "outputs": [
    {
     "data": {
      "image/png": "[encoded data removed]",
      "text/plain": [
       "<Figure size 640x480 with 1 Axes>"
      ]
     },
     "metadata": {},
     "output_type": "display_data"
    }
   ],
   "source": [
    "merc_df['headlength'].plot.hist(bins=10)\n",
    "plt.title('Headline Length Distribution')\n",
    "plt.xlabel('Headline Length')\n",
    "plt.savefig('./images/headline_length.png')"
   ]
  },
  {
   "cell_type": "code",
   "execution_count": 107,
   "metadata": {},
   "outputs": [
    {
     "data": {
      "image/png": "[encoded data removed]",
      "text/plain": [
       "<Figure size 640x480 with 1 Axes>"
      ]
     },
     "metadata": {},
     "output_type": "display_data"
    }
   ],
   "source": [
    "merc_df['sentiment'].value_counts().plot(kind='barh')\n",
    "plt.title('Merck - Sentiment Distribution')\n",
    "plt.xlabel('Market Sentiment')\n",
    "plt.savefig('./images/sentiment_distribution.png')"
   ]
  },
  {
   "cell_type": "code",
   "execution_count": null,
   "metadata": {},
   "outputs": [],
   "source": []
  },
  {
   "cell_type": "code",
   "execution_count": null,
   "metadata": {},
   "outputs": [],
   "source": []
  },
  {
   "cell_type": "code",
   "execution_count": null,
   "metadata": {},
   "outputs": [],
   "source": []
  },
  {
   "cell_type": "code",
   "execution_count": null,
   "metadata": {},
   "outputs": [],
   "source": []
  }
 ],
 "metadata": {
  "kernelspec": {
   "display_name": "ga",
   "language": "python",
   "name": "python3"
  },
  "language_info": {
   "codemirror_mode": {
    "name": "ipython",
    "version": 3
   },
   "file_extension": ".py",
   "mimetype": "text/x-python",
   "name": "python",
   "nbconvert_exporter": "python",
   "pygments_lexer": "ipython3",
   "version": "3.11.0"
  }
 },
 "nbformat": 4,
 "nbformat_minor": 2
}
