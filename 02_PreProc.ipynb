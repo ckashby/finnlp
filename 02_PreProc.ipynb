{
 "cells": [
  {
   "cell_type": "code",
   "execution_count": 1,
   "metadata": {},
   "outputs": [],
   "source": [
    "import pandas as pd       \n",
    "from nltk.tokenize import sent_tokenize, RegexpTokenizer\n",
    "from nltk.stem import WordNetLemmatizer\n",
    "# from nltk.stem.porter import PorterStemmer\n",
    "from nltk.corpus import stopwords\n",
    "# from nltk.sentiment.vader import SentimentIntensityAnalyzer\n",
    "import re\n",
    "import nltk"
   ]
  },
  {
   "cell_type": "code",
   "execution_count": 2,
   "metadata": {},
   "outputs": [
    {
     "name": "stderr",
     "output_type": "stream",
     "text": [
      "[nltk_data] Downloading package vader_lexicon to\n",
      "[nltk_data]     /Users/cka/nltk_data...\n",
      "[nltk_data]   Package vader_lexicon is already up-to-date!\n"
     ]
    },
    {
     "data": {
      "text/plain": [
       "True"
      ]
     },
     "execution_count": 2,
     "metadata": {},
     "output_type": "execute_result"
    }
   ],
   "source": [
    "nltk.download('vader_lexicon')"
   ]
  },
  {
   "cell_type": "code",
   "execution_count": 3,
   "metadata": {},
   "outputs": [
    {
     "name": "stdout",
     "output_type": "stream",
     "text": [
      "Merck (NYSE: MRK), known as MSD outside of the United States and Canada, today announced the completion of the acquisition of Harpoon Therapeutics, Inc. (Nasdaq: HARP). Harpoon is now a wholly-owned subsidiary of Merck, and Harpoon’s common stock will no longer be publicly traded or listed on the Nasdaq Stock Market. Harpoon’s lead candidate, MK-6070 (formerly known as HPN328), is a T-cell engager targeting delta-like ligand 3 (DLL3), an inhibitory canonical Notch ligand that is expressed at high levels in small cell lung cancer (SCLC) and neuroendocrine tumors. The safety, tolerability and pharmacokinetics of MK-6070 is currently being evaluated as monotherapy in a Phase 1/2 clinical trial (NCT04471727) in certain patients with advanced cancers associated with expression of DLL3. The study is also evaluating MK-6070 in combination with atezolizumab in certain patients with SCLC. In March 2022, the U.S. Food and Drug Administration (FDA) granted Orphan Drug Designation to MK-6070 for the treatment of SCLC.\n"
     ]
    }
   ],
   "source": [
    "# Define Merck text.\n",
    "text = 'Merck (NYSE: MRK), known as MSD outside of the United States and Canada, today announced the completion of the acquisition of Harpoon Therapeutics, Inc. (Nasdaq: HARP). Harpoon is now a wholly-owned subsidiary of Merck, and Harpoon’s common stock will no longer be publicly traded or listed on the Nasdaq Stock Market. Harpoon’s lead candidate, MK-6070 (formerly known as HPN328), is a T-cell engager targeting delta-like ligand 3 (DLL3), an inhibitory canonical Notch ligand that is expressed at high levels in small cell lung cancer (SCLC) and neuroendocrine tumors. The safety, tolerability and pharmacokinetics of MK-6070 is currently being evaluated as monotherapy in a Phase 1/2 clinical trial (NCT04471727) in certain patients with advanced cancers associated with expression of DLL3. The study is also evaluating MK-6070 in combination with atezolizumab in certain patients with SCLC. In March 2022, the U.S. Food and Drug Administration (FDA) granted Orphan Drug Designation to MK-6070 for the treatment of SCLC.'\n",
    "print(text)"
   ]
  },
  {
   "cell_type": "markdown",
   "metadata": {},
   "source": [
    "# Pre-Processing \n",
    "\n",
    "- Remove special characters\n",
    "- Tokenizing\n",
    "- Lemmatizing/Stemming\n",
    "- Stop word removal"
   ]
  },
  {
   "cell_type": "code",
   "execution_count": 4,
   "metadata": {},
   "outputs": [
    {
     "data": {
      "text/plain": [
       "['merck (nyse: mrk), known as msd outside of the united states and canada, today announced the completion of the acquisition of harpoon therapeutics, inc. (nasdaq: harp).',\n",
       " 'harpoon is now a wholly-owned subsidiary of merck, and harpoon’s common stock will no longer be publicly traded or listed on the nasdaq stock market.',\n",
       " 'harpoon’s lead candidate, mk-6070 (formerly known as hpn328), is a t-cell engager targeting delta-like ligand 3 (dll3), an inhibitory canonical notch ligand that is expressed at high levels in small cell lung cancer (sclc) and neuroendocrine tumors.',\n",
       " 'the safety, tolerability and pharmacokinetics of mk-6070 is currently being evaluated as monotherapy in a phase 1/2 clinical trial (nct04471727) in certain patients with advanced cancers associated with expression of dll3.',\n",
       " 'the study is also evaluating mk-6070 in combination with atezolizumab in certain patients with sclc.',\n",
       " 'in march 2022, the u.s. food and drug administration (fda) granted orphan drug designation to mk-6070 for the treatment of sclc.']"
      ]
     },
     "execution_count": 4,
     "metadata": {},
     "output_type": "execute_result"
    }
   ],
   "source": [
    "# sentence tokenizer  ## May affect NER\n",
    "headlines = sent_tokenize(text.lower())"
   ]
  },
  {
   "cell_type": "code",
   "execution_count": 6,
   "metadata": {},
   "outputs": [],
   "source": [
    "# # word tokenizer \n",
    "# word_tokenize(text.lower())"
   ]
  },
  {
   "cell_type": "markdown",
   "metadata": {},
   "source": [
    "## Lemmatizing & Stemming\n",
    "\n",
    "**Lemmatizing** and **stemming** are two forms of shortening words so we can combine similar forms of the same word.\n",
    "\n",
    "When we \"**lemmatize**\" data, we take words and attempt to return their *lemma*, or the base/dictionary form of a word."
   ]
  },
  {
   "cell_type": "code",
   "execution_count": 7,
   "metadata": {},
   "outputs": [],
   "source": [
    "# Instantiate RegExp Tokenizer\n",
    "tokenizer = RegexpTokenizer('\\w+|\\$[\\d\\.]+|\\S+')\n",
    "\n",
    "# \"Run\" Tokenizer\n",
    "text_tokens = tokenizer.tokenize(text.lower())"
   ]
  },
  {
   "cell_type": "code",
   "execution_count": 8,
   "metadata": {},
   "outputs": [],
   "source": [
    "# Instantiate lemmatizer. \n",
    "lemmatizer = WordNetLemmatizer()"
   ]
  },
  {
   "cell_type": "code",
   "execution_count": 9,
   "metadata": {},
   "outputs": [],
   "source": [
    "# Lemmatize tokens.\n",
    "tokens_lem = [lemmatizer.lemmatize(i) for i in text_tokens]"
   ]
  },
  {
   "cell_type": "code",
   "execution_count": 11,
   "metadata": {},
   "outputs": [
    {
     "data": {
      "text/plain": [
       "[('as', 'a'),\n",
       " ('states', 'state'),\n",
       " ('therapeutics', 'therapeutic'),\n",
       " ('as', 'a'),\n",
       " ('levels', 'level'),\n",
       " ('tumors', 'tumor'),\n",
       " ('as', 'a'),\n",
       " ('patients', 'patient'),\n",
       " ('cancers', 'cancer'),\n",
       " ('patients', 'patient')]"
      ]
     },
     "execution_count": 11,
     "metadata": {},
     "output_type": "execute_result"
    }
   ],
   "source": [
    "# Compare tokens to lemmatized version.\n",
    "# list(zip(text_tokens, tokens_lem))\n",
    "\n",
    "# Print only those lemmatized tokens that are different.\n",
    "[(text_tokens[i], tokens_lem[i]) for i in range(len(text_tokens)) if text_tokens[i] != tokens_lem[i]]"
   ]
  },
  {
   "cell_type": "markdown",
   "metadata": {},
   "source": [
    "## Stop Word Removal"
   ]
  },
  {
   "cell_type": "code",
   "execution_count": 12,
   "metadata": {},
   "outputs": [],
   "source": [
    "# Remove stopwords from \"text_tokens.\"\n",
    "no_stop_words = [token for token in text_tokens if token not in stopwords.words('english')]"
   ]
  },
  {
   "cell_type": "code",
   "execution_count": 13,
   "metadata": {},
   "outputs": [
    {
     "name": "stdout",
     "output_type": "stream",
     "text": [
      "['merck', '(nyse:', 'mrk', '),', 'known', 'msd', 'outside', 'united', 'states', 'canada', ',', 'today', 'announced', 'completion', 'acquisition', 'harpoon', 'therapeutics', ',', 'inc', '.', '(nasdaq:', 'harp', ').', 'harpoon', 'wholly', '-owned', 'subsidiary', 'merck', ',', 'harpoon', '’s', 'common', 'stock', 'longer', 'publicly', 'traded', 'listed', 'nasdaq', 'stock', 'market', '.', 'harpoon', '’s', 'lead', 'candidate', ',', 'mk', '-6070', '(formerly', 'known', 'hpn328', '),', '-cell', 'engager', 'targeting', 'delta', '-like', 'ligand', '3', '(dll3),', 'inhibitory', 'canonical', 'notch', 'ligand', 'expressed', 'high', 'levels', 'small', 'cell', 'lung', 'cancer', '(sclc)', 'neuroendocrine', 'tumors', '.', 'safety', ',', 'tolerability', 'pharmacokinetics', 'mk', '-6070', 'currently', 'evaluated', 'monotherapy', 'phase', '1', '/2', 'clinical', 'trial', '(nct04471727)', 'certain', 'patients', 'advanced', 'cancers', 'associated', 'expression', 'dll3', '.', 'study', 'also', 'evaluating', 'mk', '-6070', 'combination', 'atezolizumab', 'certain', 'patients', 'sclc', '.', 'march', '2022', ',', 'u', '.s.', 'food', 'drug', 'administration', '(fda)', 'granted', 'orphan', 'drug', 'designation', 'mk', '-6070', 'treatment', 'sclc', '.']\n"
     ]
    }
   ],
   "source": [
    "# Check it\n",
    "print(no_stop_words)"
   ]
  },
  {
   "cell_type": "code",
   "execution_count": null,
   "metadata": {},
   "outputs": [],
   "source": []
  }
 ],
 "metadata": {
  "kernelspec": {
   "display_name": "ga",
   "language": "python",
   "name": "python3"
  },
  "language_info": {
   "codemirror_mode": {
    "name": "ipython",
    "version": 3
   },
   "file_extension": ".py",
   "mimetype": "text/x-python",
   "name": "python",
   "nbconvert_exporter": "python",
   "pygments_lexer": "ipython3",
   "version": "3.11.0"
  }
 },
 "nbformat": 4,
 "nbformat_minor": 2
}
