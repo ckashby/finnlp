{
 "cells": [
  {
   "cell_type": "markdown",
   "metadata": {},
   "source": [
    "# Sentiment Analysis"
   ]
  },
  {
   "cell_type": "code",
   "execution_count": 13,
   "metadata": {},
   "outputs": [],
   "source": [
    "import pandas as pd\n",
    "from nltk.sentiment.vader import SentimentIntensityAnalyzer\n",
    "\n",
    "import warnings\n",
    "warnings.filterwarnings(\"ignore\")"
   ]
  },
  {
   "cell_type": "code",
   "execution_count": 14,
   "metadata": {},
   "outputs": [],
   "source": [
    "# # Let's come up with a list of positive and negative words we might observe.\n",
    "\n",
    "# positive_words = ['improvement', 'recommends', 'delight', 'good', 'great', 'awesome', 'tremendous', 'fabulous',\n",
    "#                  'amazing', 'stellar', 'fantastic', 'super']\n",
    "# negative_words = ['adverse', 'unlikely', 'ugly', 'bad', 'disgusting', 'terrible', 'gross', 'awful', 'worst']"
   ]
  },
  {
   "cell_type": "code",
   "execution_count": 68,
   "metadata": {},
   "outputs": [
    {
     "name": "stdout",
     "output_type": "stream",
     "text": [
      "<class 'pandas.core.frame.DataFrame'>\n",
      "DatetimeIndex: 492 entries, 2009-08-17 12:14:00+00:00 to 2020-06-11 14:22:00+00:00\n",
      "Data columns (total 2 columns):\n",
      " #   Column     Non-Null Count  Dtype \n",
      "---  ------     --------------  ----- \n",
      " 0   headline   492 non-null    object\n",
      " 1   sentiment  492 non-null    object\n",
      "dtypes: object(2)\n",
      "memory usage: 11.5+ KB\n"
     ]
    }
   ],
   "source": [
    "merc_df = pd.read_csv('./data/merc_news.csv')\n",
    "merc_df['date'] = pd.to_datetime(merc_df['date'])\n",
    "merc_df.set_index('date', inplace=True)\n",
    "merc_df.sort_index(inplace=True)\n",
    "merc_df.info()"
   ]
  },
  {
   "cell_type": "code",
   "execution_count": 69,
   "metadata": {},
   "outputs": [],
   "source": [
    "# def simple_sentiment(text):\n",
    "#     # Instantiate tokenizer.\n",
    "#     tokenizer = RegexpTokenizer(r'\\w+')\n",
    "    \n",
    "#     # Tokenize text.\n",
    "#     tokens = tokenizer.tokenize(text.lower())\n",
    "    \n",
    "#     # Instantiate stemmer.\n",
    "#     p_stemmer = PorterStemmer()\n",
    "    \n",
    "#     # Stem words.\n",
    "#     stemmed_words = [p_stemmer.stem(i) for i in tokens]\n",
    "    \n",
    "#     # Stem our positive/negative words.\n",
    "#     positive_stems = [p_stemmer.stem(i) for i in positive_words]\n",
    "#     negative_stems = [p_stemmer.stem(i) for i in negative_words]\n",
    "\n",
    "#     # Count \"positive\" words.\n",
    "#     positive_count = sum([1 for i in stemmed_words if i in positive_stems])\n",
    "    \n",
    "#     # Count \"negative\" words\n",
    "#     negative_count = sum([1 for i in stemmed_words if i in negative_stems])\n",
    "    \n",
    "#     # Calculate Sentiment Percentage \n",
    "#     # (Positive Count - Negative Count) / (Total Count)\n",
    "\n",
    "#     return round((positive_count - negative_count) / len(tokens), 2)"
   ]
  },
  {
   "cell_type": "code",
   "execution_count": 70,
   "metadata": {},
   "outputs": [
    {
     "name": "stdout",
     "output_type": "stream",
     "text": [
      "The Stocks That Moved The S&P, Dow And Nasdaq Today\n"
     ]
    }
   ],
   "source": [
    "# Define Merck text.\n",
    "merc_df.head()\n",
    "text = merc_df.iloc[244]['headline']\n",
    "print(text)"
   ]
  },
  {
   "cell_type": "code",
   "execution_count": 71,
   "metadata": {},
   "outputs": [
    {
     "data": {
      "text/plain": [
       "Index(['headline', 'sentiment'], dtype='object')"
      ]
     },
     "execution_count": 71,
     "metadata": {},
     "output_type": "execute_result"
    }
   ],
   "source": [
    "# Instantiate Sentiment Intensity Analyzer\n",
    "sia = SentimentIntensityAnalyzer()\n",
    "merc_df.columns"
   ]
  },
  {
   "cell_type": "code",
   "execution_count": 72,
   "metadata": {},
   "outputs": [
    {
     "data": {
      "text/plain": [
       "{'neg': 0.0, 'neu': 1.0, 'pos': 0.0, 'compound': 0.0}"
      ]
     },
     "execution_count": 72,
     "metadata": {},
     "output_type": "execute_result"
    }
   ],
   "source": [
    "# Calculate sentiment of text\n",
    "sia.polarity_scores(text)"
   ]
  },
  {
   "cell_type": "code",
   "execution_count": 73,
   "metadata": {},
   "outputs": [],
   "source": [
    "merc_df['neg_sentiment'] = merc_df['headline'].apply(lambda x: sia.polarity_scores(x)['neg'])\n",
    "merc_df['neu_sentiment'] = merc_df['headline'].apply(lambda x: sia.polarity_scores(x)['neu'])\n",
    "merc_df['pos_sentiment'] = merc_df['headline'].apply(lambda x: sia.polarity_scores(x)['pos'])\n",
    "merc_df['compound_sentiment'] = merc_df['headline'].apply(lambda x: sia.polarity_scores(x)['compound'])"
   ]
  },
  {
   "cell_type": "code",
   "execution_count": 74,
   "metadata": {},
   "outputs": [
    {
     "data": {
      "text/html": [
       "<div>\n",
       "<style scoped>\n",
       "    .dataframe tbody tr th:only-of-type {\n",
       "        vertical-align: middle;\n",
       "    }\n",
       "\n",
       "    .dataframe tbody tr th {\n",
       "        vertical-align: top;\n",
       "    }\n",
       "\n",
       "    .dataframe thead th {\n",
       "        text-align: right;\n",
       "    }\n",
       "</style>\n",
       "<table border=\"1\" class=\"dataframe\">\n",
       "  <thead>\n",
       "    <tr style=\"text-align: right;\">\n",
       "      <th></th>\n",
       "      <th>headline</th>\n",
       "      <th>sentiment</th>\n",
       "      <th>neg_sentiment</th>\n",
       "      <th>neu_sentiment</th>\n",
       "      <th>pos_sentiment</th>\n",
       "      <th>compound_sentiment</th>\n",
       "    </tr>\n",
       "    <tr>\n",
       "      <th>date</th>\n",
       "      <th></th>\n",
       "      <th></th>\n",
       "      <th></th>\n",
       "      <th></th>\n",
       "      <th></th>\n",
       "      <th></th>\n",
       "    </tr>\n",
       "  </thead>\n",
       "  <tbody>\n",
       "    <tr>\n",
       "      <th>2009-08-17 12:14:00+00:00</th>\n",
       "      <td>BenchmarkJournal.com Free Analyst Review for A...</td>\n",
       "      <td>neutral</td>\n",
       "      <td>0.0</td>\n",
       "      <td>0.769</td>\n",
       "      <td>0.231</td>\n",
       "      <td>0.5106</td>\n",
       "    </tr>\n",
       "    <tr>\n",
       "      <th>2009-09-18 07:38:00+00:00</th>\n",
       "      <td>Sanofi-aventis (SNY) Completes Acquisition of ...</td>\n",
       "      <td>neutral</td>\n",
       "      <td>0.0</td>\n",
       "      <td>1.000</td>\n",
       "      <td>0.000</td>\n",
       "      <td>0.0000</td>\n",
       "    </tr>\n",
       "    <tr>\n",
       "      <th>2009-11-04 20:38:00+00:00</th>\n",
       "      <td>Fitch Downgrades Merck, Outlook Stable</td>\n",
       "      <td>mildly bearish</td>\n",
       "      <td>0.0</td>\n",
       "      <td>0.645</td>\n",
       "      <td>0.355</td>\n",
       "      <td>0.2960</td>\n",
       "    </tr>\n",
       "    <tr>\n",
       "      <th>2009-11-04 21:02:00+00:00</th>\n",
       "      <td>Merck Says It Won't Seek Another Larger Merger</td>\n",
       "      <td>mildly bullish</td>\n",
       "      <td>0.0</td>\n",
       "      <td>1.000</td>\n",
       "      <td>0.000</td>\n",
       "      <td>0.0000</td>\n",
       "    </tr>\n",
       "    <tr>\n",
       "      <th>2009-11-13 16:32:00+00:00</th>\n",
       "      <td>Merck (MRK) Drugs Under Scanner Of Cholesterol...</td>\n",
       "      <td>neutral</td>\n",
       "      <td>0.0</td>\n",
       "      <td>1.000</td>\n",
       "      <td>0.000</td>\n",
       "      <td>0.0000</td>\n",
       "    </tr>\n",
       "  </tbody>\n",
       "</table>\n",
       "</div>"
      ],
      "text/plain": [
       "                                                                    headline  \\\n",
       "date                                                                           \n",
       "2009-08-17 12:14:00+00:00  BenchmarkJournal.com Free Analyst Review for A...   \n",
       "2009-09-18 07:38:00+00:00  Sanofi-aventis (SNY) Completes Acquisition of ...   \n",
       "2009-11-04 20:38:00+00:00             Fitch Downgrades Merck, Outlook Stable   \n",
       "2009-11-04 21:02:00+00:00     Merck Says It Won't Seek Another Larger Merger   \n",
       "2009-11-13 16:32:00+00:00  Merck (MRK) Drugs Under Scanner Of Cholesterol...   \n",
       "\n",
       "                                sentiment  neg_sentiment  neu_sentiment  \\\n",
       "date                                                                      \n",
       "2009-08-17 12:14:00+00:00         neutral            0.0          0.769   \n",
       "2009-09-18 07:38:00+00:00         neutral            0.0          1.000   \n",
       "2009-11-04 20:38:00+00:00  mildly bearish            0.0          0.645   \n",
       "2009-11-04 21:02:00+00:00  mildly bullish            0.0          1.000   \n",
       "2009-11-13 16:32:00+00:00         neutral            0.0          1.000   \n",
       "\n",
       "                           pos_sentiment  compound_sentiment  \n",
       "date                                                          \n",
       "2009-08-17 12:14:00+00:00          0.231              0.5106  \n",
       "2009-09-18 07:38:00+00:00          0.000              0.0000  \n",
       "2009-11-04 20:38:00+00:00          0.355              0.2960  \n",
       "2009-11-04 21:02:00+00:00          0.000              0.0000  \n",
       "2009-11-13 16:32:00+00:00          0.000              0.0000  "
      ]
     },
     "execution_count": 74,
     "metadata": {},
     "output_type": "execute_result"
    }
   ],
   "source": [
    "merc_df.head()"
   ]
  },
  {
   "cell_type": "code",
   "execution_count": 83,
   "metadata": {},
   "outputs": [],
   "source": [
    "# set column width\n",
    "pd.set_option('display.max_colwidth', 130)"
   ]
  },
  {
   "cell_type": "code",
   "execution_count": 85,
   "metadata": {},
   "outputs": [
    {
     "data": {
      "text/plain": [
       "date\n",
       "2009-11-04 20:38:00+00:00                                                  Fitch Downgrades Merck, Outlook Stable\n",
       "2010-07-30 18:11:00+00:00                             Hapoalim Securities Downgrades Merck to Hold from Buy (MRK)\n",
       "2012-08-24 11:13:00+00:00             Bank of America Downgrades Merck & from Buy to Neutral, Announces PO of $45\n",
       "2012-08-24 16:05:00+00:00    UPDATE: Bank of America Merrill Lynch Downgrades Merck to Neutral, Reiterates $45 PT\n",
       "2013-10-14 10:52:00+00:00       Bernstein Downgrades Merck & Company, Inc. to Market Perform, Lowers PT to $50.00\n",
       "2013-10-14 11:46:00+00:00                                                               Benzinga's Top Downgrades\n",
       "2016-07-18 10:29:00+00:00                                     BMO Capital Downgrades Merck & Co to Market Perform\n",
       "2017-10-30 10:40:00+00:00                                    Morgan Stanley Downgrades Merck & Co to Equal-Weight\n",
       "2017-10-30 13:22:00+00:00                                Benzinga's Top Upgrades, Downgrades For October 30, 2017\n",
       "Name: headline, dtype: object"
      ]
     },
     "execution_count": 85,
     "metadata": {},
     "output_type": "execute_result"
    }
   ],
   "source": [
    "merc_df[merc_df['headline'].str.contains('Downgrades')]['headline']"
   ]
  },
  {
   "cell_type": "code",
   "execution_count": 88,
   "metadata": {},
   "outputs": [],
   "source": [
    "merc_df.to_csv('./data/merc_news_sentiment.csv')"
   ]
  },
  {
   "cell_type": "code",
   "execution_count": 89,
   "metadata": {},
   "outputs": [],
   "source": [
    "from transformers import pipeline"
   ]
  },
  {
   "cell_type": "code",
   "execution_count": 90,
   "metadata": {},
   "outputs": [
    {
     "name": "stderr",
     "output_type": "stream",
     "text": [
      "No model was supplied, defaulted to distilbert-base-uncased-finetuned-sst-2-english and revision af0f99b (https://huggingface.co/distilbert-base-uncased-finetuned-sst-2-english).\n",
      "Using a pipeline without specifying a model name and revision in production is not recommended.\n"
     ]
    }
   ],
   "source": [
    "sia_pipeline = pipeline('sentiment-analysis')"
   ]
  },
  {
   "cell_type": "code",
   "execution_count": 91,
   "metadata": {},
   "outputs": [
    {
     "data": {
      "text/plain": [
       "[{'label': 'NEGATIVE', 'score': 0.9975982308387756}]"
      ]
     },
     "execution_count": 91,
     "metadata": {},
     "output_type": "execute_result"
    }
   ],
   "source": [
    "sia_pipeline(\"Bank of America Merrill Lynch Downgrades Merck to Neutral, Reiterates $45 PT\")"
   ]
  },
  {
   "cell_type": "code",
   "execution_count": 92,
   "metadata": {},
   "outputs": [
    {
     "data": {
      "text/plain": [
       "{'neg': 0.0, 'neu': 1.0, 'pos': 0.0, 'compound': 0.0}"
      ]
     },
     "execution_count": 92,
     "metadata": {},
     "output_type": "execute_result"
    }
   ],
   "source": [
    "sia.polarity_scores(\"Bank of America Merrill Lynch Downgrades Merck to Neutral, Reiterates $45 PT\")"
   ]
  },
  {
   "cell_type": "code",
   "execution_count": null,
   "metadata": {},
   "outputs": [],
   "source": []
  },
  {
   "cell_type": "code",
   "execution_count": null,
   "metadata": {},
   "outputs": [],
   "source": []
  }
 ],
 "metadata": {
  "kernelspec": {
   "display_name": "ga",
   "language": "python",
   "name": "python3"
  },
  "language_info": {
   "codemirror_mode": {
    "name": "ipython",
    "version": 3
   },
   "file_extension": ".py",
   "mimetype": "text/x-python",
   "name": "python",
   "nbconvert_exporter": "python",
   "pygments_lexer": "ipython3",
   "version": "3.11.0"
  }
 },
 "nbformat": 4,
 "nbformat_minor": 2
}
