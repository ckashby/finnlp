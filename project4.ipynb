{
 "cells": [
  {
   "cell_type": "markdown",
   "metadata": {},
   "source": [
    "**Natural language processing** (NLP) describes the field of getting computers to understand language how we as humans do. Natural language processing has many, many applications including:\n",
    "- voice-to-text services for people who are hard of hearing.\n",
    "- text-to-voice services for people who have difficulty reading.\n",
    "- automated chatbots for organizations.\n",
    "- translation services.\n",
    "\n",
    "Generally when we get text data, strings aren't broken out into individual words or even sentences. We might have a full tweet, full chapter of a book, or full .pdf file all in one long string.\n",
    "\n",
    "Today, we're diving into the practical side of NLP: taking text data and breaking it out into words that we can then leverage in machine learning."
   ]
  },
  {
   "cell_type": "code",
   "execution_count": 57,
   "metadata": {},
   "outputs": [],
   "source": [
    "# Imports\n",
    "import pandas as pd       \n",
    "from nltk.tokenize import sent_tokenize, word_tokenize, RegexpTokenizer\n",
    "from nltk.stem import WordNetLemmatizer\n",
    "from nltk.stem.porter import PorterStemmer\n",
    "from nltk.corpus import stopwords\n",
    "from nltk.sentiment.vader import SentimentIntensityAnalyzer\n",
    "import re"
   ]
  },
  {
   "cell_type": "code",
   "execution_count": 64,
   "metadata": {},
   "outputs": [
    {
     "name": "stdout",
     "output_type": "stream",
     "text": [
      "zsh:1: unknown file attribute: v\n"
     ]
    }
   ],
   "source": [
    "nltk.download('vader_lexicon')"
   ]
  },
  {
   "cell_type": "code",
   "execution_count": 58,
   "metadata": {},
   "outputs": [],
   "source": [
    "# Define Merck text.\n",
    "text = 'Merck (NYSE: MRK), known as MSD outside of the United States and Canada, today announced the completion of the acquisition of Harpoon Therapeutics, Inc. (Nasdaq: HARP). Harpoon is now a wholly-owned subsidiary of Merck, and Harpoon’s common stock will no longer be publicly traded or listed on the Nasdaq Stock Market. Harpoon’s lead candidate, MK-6070 (formerly known as HPN328), is a T-cell engager targeting delta-like ligand 3 (DLL3), an inhibitory canonical Notch ligand that is expressed at high levels in small cell lung cancer (SCLC) and neuroendocrine tumors. The safety, tolerability and pharmacokinetics of MK-6070 is currently being evaluated as monotherapy in a Phase 1/2 clinical trial (NCT04471727) in certain patients with advanced cancers associated with expression of DLL3. The study is also evaluating MK-6070 in combination with atezolizumab in certain patients with SCLC. In March 2022, the U.S. Food and Drug Administration (FDA) granted Orphan Drug Designation to MK-6070 for the treatment of SCLC.'"
   ]
  },
  {
   "cell_type": "code",
   "execution_count": null,
   "metadata": {},
   "outputs": [],
   "source": []
  },
  {
   "cell_type": "code",
   "execution_count": 24,
   "metadata": {},
   "outputs": [
    {
     "name": "stdout",
     "output_type": "stream",
     "text": [
      "Merck (NYSE: MRK), known as MSD outside of the United States and Canada, today announced the completion of the acquisition of Harpoon Therapeutics, Inc. (Nasdaq: HARP). Harpoon is now a wholly-owned subsidiary of Merck, and Harpoon’s common stock will no longer be publicly traded or listed on the Nasdaq Stock Market. Harpoon’s lead candidate, MK-6070 (formerly known as HPN328), is a T-cell engager targeting delta-like ligand 3 (DLL3), an inhibitory canonical Notch ligand that is expressed at high levels in small cell lung cancer (SCLC) and neuroendocrine tumors. The safety, tolerability and pharmacokinetics of MK-6070 is currently being evaluated as monotherapy in a Phase 1/2 clinical trial (NCT04471727) in certain patients with advanced cancers associated with expression of DLL3. The study is also evaluating MK-6070 in combination with atezolizumab in certain patients with SCLC. In March 2022, the U.S. Food and Drug Administration (FDA) granted Orphan Drug Designation to MK-6070 for the treatment of SCLC.\n"
     ]
    }
   ],
   "source": [
    "print(text)"
   ]
  },
  {
   "cell_type": "markdown",
   "metadata": {},
   "source": [
    "# Pre-Processing \n",
    "\n",
    "When dealing with text data, there are common pre-processing steps. We won't necessarily use all of them every time we deal with text data.\n",
    "\n",
    "- Remove special characters\n",
    "- Tokenizing\n",
    "- Lemmatizing/Stemming\n",
    "- Stop word removal"
   ]
  },
  {
   "cell_type": "markdown",
   "metadata": {},
   "source": [
    "## Removing special characters & Tokenizing\n",
    "\n",
    "We need to remove unnecessary characters when cleaning text data (punctuation, symbols, etc.). This can be done with RegEx.\n",
    "\n",
    "When we \"**tokenize**\" data, we take it and split it up into distinct chunks based on some pattern.\n",
    "\n",
    "If we use a RegEx tokenizer, we often can do these steps together."
   ]
  },
  {
   "cell_type": "code",
   "execution_count": 25,
   "metadata": {},
   "outputs": [
    {
     "data": {
      "text/plain": [
       "['merck (nyse: mrk), known as msd outside of the united states and canada, today announced the completion of the acquisition of harpoon therapeutics, inc. (nasdaq: harp).',\n",
       " 'harpoon is now a wholly-owned subsidiary of merck, and harpoon’s common stock will no longer be publicly traded or listed on the nasdaq stock market.',\n",
       " 'harpoon’s lead candidate, mk-6070 (formerly known as hpn328), is a t-cell engager targeting delta-like ligand 3 (dll3), an inhibitory canonical notch ligand that is expressed at high levels in small cell lung cancer (sclc) and neuroendocrine tumors.',\n",
       " 'the safety, tolerability and pharmacokinetics of mk-6070 is currently being evaluated as monotherapy in a phase 1/2 clinical trial (nct04471727) in certain patients with advanced cancers associated with expression of dll3.',\n",
       " 'the study is also evaluating mk-6070 in combination with atezolizumab in certain patients with sclc.',\n",
       " 'in march 2022, the u.s. food and drug administration (fda) granted orphan drug designation to mk-6070 for the treatment of sclc.']"
      ]
     },
     "execution_count": 25,
     "metadata": {},
     "output_type": "execute_result"
    }
   ],
   "source": [
    "# sentence tokenizer  ## May affect NER\n",
    "sent_tokenize(text.lower())"
   ]
  },
  {
   "cell_type": "code",
   "execution_count": 26,
   "metadata": {
    "scrolled": true
   },
   "outputs": [
    {
     "data": {
      "text/plain": [
       "['merck',\n",
       " '(',\n",
       " 'nyse',\n",
       " ':',\n",
       " 'mrk',\n",
       " ')',\n",
       " ',',\n",
       " 'known',\n",
       " 'as',\n",
       " 'msd',\n",
       " 'outside',\n",
       " 'of',\n",
       " 'the',\n",
       " 'united',\n",
       " 'states',\n",
       " 'and',\n",
       " 'canada',\n",
       " ',',\n",
       " 'today',\n",
       " 'announced',\n",
       " 'the',\n",
       " 'completion',\n",
       " 'of',\n",
       " 'the',\n",
       " 'acquisition',\n",
       " 'of',\n",
       " 'harpoon',\n",
       " 'therapeutics',\n",
       " ',',\n",
       " 'inc.',\n",
       " '(',\n",
       " 'nasdaq',\n",
       " ':',\n",
       " 'harp',\n",
       " ')',\n",
       " '.',\n",
       " 'harpoon',\n",
       " 'is',\n",
       " 'now',\n",
       " 'a',\n",
       " 'wholly-owned',\n",
       " 'subsidiary',\n",
       " 'of',\n",
       " 'merck',\n",
       " ',',\n",
       " 'and',\n",
       " 'harpoon',\n",
       " '’',\n",
       " 's',\n",
       " 'common',\n",
       " 'stock',\n",
       " 'will',\n",
       " 'no',\n",
       " 'longer',\n",
       " 'be',\n",
       " 'publicly',\n",
       " 'traded',\n",
       " 'or',\n",
       " 'listed',\n",
       " 'on',\n",
       " 'the',\n",
       " 'nasdaq',\n",
       " 'stock',\n",
       " 'market',\n",
       " '.',\n",
       " 'harpoon',\n",
       " '’',\n",
       " 's',\n",
       " 'lead',\n",
       " 'candidate',\n",
       " ',',\n",
       " 'mk-6070',\n",
       " '(',\n",
       " 'formerly',\n",
       " 'known',\n",
       " 'as',\n",
       " 'hpn328',\n",
       " ')',\n",
       " ',',\n",
       " 'is',\n",
       " 'a',\n",
       " 't-cell',\n",
       " 'engager',\n",
       " 'targeting',\n",
       " 'delta-like',\n",
       " 'ligand',\n",
       " '3',\n",
       " '(',\n",
       " 'dll3',\n",
       " ')',\n",
       " ',',\n",
       " 'an',\n",
       " 'inhibitory',\n",
       " 'canonical',\n",
       " 'notch',\n",
       " 'ligand',\n",
       " 'that',\n",
       " 'is',\n",
       " 'expressed',\n",
       " 'at',\n",
       " 'high',\n",
       " 'levels',\n",
       " 'in',\n",
       " 'small',\n",
       " 'cell',\n",
       " 'lung',\n",
       " 'cancer',\n",
       " '(',\n",
       " 'sclc',\n",
       " ')',\n",
       " 'and',\n",
       " 'neuroendocrine',\n",
       " 'tumors',\n",
       " '.',\n",
       " 'the',\n",
       " 'safety',\n",
       " ',',\n",
       " 'tolerability',\n",
       " 'and',\n",
       " 'pharmacokinetics',\n",
       " 'of',\n",
       " 'mk-6070',\n",
       " 'is',\n",
       " 'currently',\n",
       " 'being',\n",
       " 'evaluated',\n",
       " 'as',\n",
       " 'monotherapy',\n",
       " 'in',\n",
       " 'a',\n",
       " 'phase',\n",
       " '1/2',\n",
       " 'clinical',\n",
       " 'trial',\n",
       " '(',\n",
       " 'nct04471727',\n",
       " ')',\n",
       " 'in',\n",
       " 'certain',\n",
       " 'patients',\n",
       " 'with',\n",
       " 'advanced',\n",
       " 'cancers',\n",
       " 'associated',\n",
       " 'with',\n",
       " 'expression',\n",
       " 'of',\n",
       " 'dll3',\n",
       " '.',\n",
       " 'the',\n",
       " 'study',\n",
       " 'is',\n",
       " 'also',\n",
       " 'evaluating',\n",
       " 'mk-6070',\n",
       " 'in',\n",
       " 'combination',\n",
       " 'with',\n",
       " 'atezolizumab',\n",
       " 'in',\n",
       " 'certain',\n",
       " 'patients',\n",
       " 'with',\n",
       " 'sclc',\n",
       " '.',\n",
       " 'in',\n",
       " 'march',\n",
       " '2022',\n",
       " ',',\n",
       " 'the',\n",
       " 'u.s.',\n",
       " 'food',\n",
       " 'and',\n",
       " 'drug',\n",
       " 'administration',\n",
       " '(',\n",
       " 'fda',\n",
       " ')',\n",
       " 'granted',\n",
       " 'orphan',\n",
       " 'drug',\n",
       " 'designation',\n",
       " 'to',\n",
       " 'mk-6070',\n",
       " 'for',\n",
       " 'the',\n",
       " 'treatment',\n",
       " 'of',\n",
       " 'sclc',\n",
       " '.']"
      ]
     },
     "execution_count": 26,
     "metadata": {},
     "output_type": "execute_result"
    }
   ],
   "source": [
    "# word tokenizer\n",
    "word_tokenize(text.lower())"
   ]
  },
  {
   "cell_type": "code",
   "execution_count": 27,
   "metadata": {},
   "outputs": [],
   "source": [
    "# Instantiate RegExp Tokenizer\n",
    "tokenizer = RegexpTokenizer(r'\\w+')"
   ]
  },
  {
   "cell_type": "code",
   "execution_count": 28,
   "metadata": {},
   "outputs": [],
   "source": [
    "# \"Run\" Tokenizer\n",
    "text_tokens = tokenizer.tokenize(text.lower())"
   ]
  },
  {
   "cell_type": "code",
   "execution_count": 29,
   "metadata": {
    "scrolled": true
   },
   "outputs": [
    {
     "data": {
      "text/plain": [
       "['merck',\n",
       " 'nyse',\n",
       " 'mrk',\n",
       " 'known',\n",
       " 'as',\n",
       " 'msd',\n",
       " 'outside',\n",
       " 'of',\n",
       " 'the',\n",
       " 'united',\n",
       " 'states',\n",
       " 'and',\n",
       " 'canada',\n",
       " 'today',\n",
       " 'announced',\n",
       " 'the',\n",
       " 'completion',\n",
       " 'of',\n",
       " 'the',\n",
       " 'acquisition',\n",
       " 'of',\n",
       " 'harpoon',\n",
       " 'therapeutics',\n",
       " 'inc',\n",
       " 'nasdaq',\n",
       " 'harp',\n",
       " 'harpoon',\n",
       " 'is',\n",
       " 'now',\n",
       " 'a',\n",
       " 'wholly',\n",
       " 'owned',\n",
       " 'subsidiary',\n",
       " 'of',\n",
       " 'merck',\n",
       " 'and',\n",
       " 'harpoon',\n",
       " 's',\n",
       " 'common',\n",
       " 'stock',\n",
       " 'will',\n",
       " 'no',\n",
       " 'longer',\n",
       " 'be',\n",
       " 'publicly',\n",
       " 'traded',\n",
       " 'or',\n",
       " 'listed',\n",
       " 'on',\n",
       " 'the',\n",
       " 'nasdaq',\n",
       " 'stock',\n",
       " 'market',\n",
       " 'harpoon',\n",
       " 's',\n",
       " 'lead',\n",
       " 'candidate',\n",
       " 'mk',\n",
       " '6070',\n",
       " 'formerly',\n",
       " 'known',\n",
       " 'as',\n",
       " 'hpn328',\n",
       " 'is',\n",
       " 'a',\n",
       " 't',\n",
       " 'cell',\n",
       " 'engager',\n",
       " 'targeting',\n",
       " 'delta',\n",
       " 'like',\n",
       " 'ligand',\n",
       " '3',\n",
       " 'dll3',\n",
       " 'an',\n",
       " 'inhibitory',\n",
       " 'canonical',\n",
       " 'notch',\n",
       " 'ligand',\n",
       " 'that',\n",
       " 'is',\n",
       " 'expressed',\n",
       " 'at',\n",
       " 'high',\n",
       " 'levels',\n",
       " 'in',\n",
       " 'small',\n",
       " 'cell',\n",
       " 'lung',\n",
       " 'cancer',\n",
       " 'sclc',\n",
       " 'and',\n",
       " 'neuroendocrine',\n",
       " 'tumors',\n",
       " 'the',\n",
       " 'safety',\n",
       " 'tolerability',\n",
       " 'and',\n",
       " 'pharmacokinetics',\n",
       " 'of',\n",
       " 'mk',\n",
       " '6070',\n",
       " 'is',\n",
       " 'currently',\n",
       " 'being',\n",
       " 'evaluated',\n",
       " 'as',\n",
       " 'monotherapy',\n",
       " 'in',\n",
       " 'a',\n",
       " 'phase',\n",
       " '1',\n",
       " '2',\n",
       " 'clinical',\n",
       " 'trial',\n",
       " 'nct04471727',\n",
       " 'in',\n",
       " 'certain',\n",
       " 'patients',\n",
       " 'with',\n",
       " 'advanced',\n",
       " 'cancers',\n",
       " 'associated',\n",
       " 'with',\n",
       " 'expression',\n",
       " 'of',\n",
       " 'dll3',\n",
       " 'the',\n",
       " 'study',\n",
       " 'is',\n",
       " 'also',\n",
       " 'evaluating',\n",
       " 'mk',\n",
       " '6070',\n",
       " 'in',\n",
       " 'combination',\n",
       " 'with',\n",
       " 'atezolizumab',\n",
       " 'in',\n",
       " 'certain',\n",
       " 'patients',\n",
       " 'with',\n",
       " 'sclc',\n",
       " 'in',\n",
       " 'march',\n",
       " '2022',\n",
       " 'the',\n",
       " 'u',\n",
       " 's',\n",
       " 'food',\n",
       " 'and',\n",
       " 'drug',\n",
       " 'administration',\n",
       " 'fda',\n",
       " 'granted',\n",
       " 'orphan',\n",
       " 'drug',\n",
       " 'designation',\n",
       " 'to',\n",
       " 'mk',\n",
       " '6070',\n",
       " 'for',\n",
       " 'the',\n",
       " 'treatment',\n",
       " 'of',\n",
       " 'sclc']"
      ]
     },
     "execution_count": 29,
     "metadata": {},
     "output_type": "execute_result"
    }
   ],
   "source": [
    "# Show Results\n",
    "text_tokens"
   ]
  },
  {
   "cell_type": "markdown",
   "metadata": {},
   "source": [
    "<details><summary>In comparing the original text to our tokenized version of the text, we converted one long string into a list of strings. What other changes occurred?</summary>\n",
    "\n",
    "- All strings were converted to lower case.\n",
    "- All punctuation was removed. (This was done using **regular expressions**.)\n",
    "</details>"
   ]
  },
  {
   "cell_type": "markdown",
   "metadata": {},
   "source": [
    "### Briefly: Regular Expressions\n",
    "\n",
    "Regular Expressions, or RegEx, is a helpful tool for detecting patterns in text. \n",
    "- This is a tool of which you should be aware!"
   ]
  },
  {
   "cell_type": "code",
   "execution_count": 30,
   "metadata": {
    "scrolled": true
   },
   "outputs": [],
   "source": [
    "# [(re.findall('\\d+', i), i) for i in text_tokens]"
   ]
  },
  {
   "cell_type": "markdown",
   "metadata": {},
   "source": [
    "RegEx in Python 3 understands `\\d+` to identify numeric digits. Therefore, the above code searched through `text_tokens` to see if any numeric digits were in there. \n",
    "\n",
    "A `RegexpTokenizer` splits a string into substrings using regular expressions.\n",
    "\n",
    "The following example is pulled from [this site](http://www.nltk.org/_modules/nltk/tokenize/regexp.html)."
   ]
  },
  {
   "cell_type": "code",
   "execution_count": 31,
   "metadata": {},
   "outputs": [
    {
     "name": "stdout",
     "output_type": "stream",
     "text": [
      "Merck (NYSE: MRK), known as MSD outside of the United States and Canada, today announced the completion of the acquisition of Harpoon Therapeutics, Inc. (Nasdaq: HARP). Harpoon is now a wholly-owned subsidiary of Merck, and Harpoon’s common stock will no longer be publicly traded or listed on the Nasdaq Stock Market. Harpoon’s lead candidate, MK-6070 (formerly known as HPN328), is a T-cell engager targeting delta-like ligand 3 (DLL3), an inhibitory canonical Notch ligand that is expressed at high levels in small cell lung cancer (SCLC) and neuroendocrine tumors. The safety, tolerability and pharmacokinetics of MK-6070 is currently being evaluated as monotherapy in a Phase 1/2 clinical trial (NCT04471727) in certain patients with advanced cancers associated with expression of DLL3. The study is also evaluating MK-6070 in combination with atezolizumab in certain patients with SCLC. In March 2022, the U.S. Food and Drug Administration (FDA) granted Orphan Drug Designation to MK-6070 for the treatment of SCLC.\n"
     ]
    }
   ],
   "source": [
    "# Define and print string.\n",
    "s = text\n",
    "\n",
    "print(s)"
   ]
  },
  {
   "cell_type": "code",
   "execution_count": 32,
   "metadata": {},
   "outputs": [],
   "source": [
    "# Instantiate tokenizer.\n",
    "tokenizer_1 = RegexpTokenizer('\\w+|\\$[\\d\\.]+|\\S+')"
   ]
  },
  {
   "cell_type": "code",
   "execution_count": 33,
   "metadata": {
    "scrolled": true
   },
   "outputs": [
    {
     "data": {
      "text/plain": [
       "['Merck',\n",
       " '(NYSE:',\n",
       " 'MRK',\n",
       " '),',\n",
       " 'known',\n",
       " 'as',\n",
       " 'MSD',\n",
       " 'outside',\n",
       " 'of',\n",
       " 'the',\n",
       " 'United',\n",
       " 'States',\n",
       " 'and',\n",
       " 'Canada',\n",
       " ',',\n",
       " 'today',\n",
       " 'announced',\n",
       " 'the',\n",
       " 'completion',\n",
       " 'of',\n",
       " 'the',\n",
       " 'acquisition',\n",
       " 'of',\n",
       " 'Harpoon',\n",
       " 'Therapeutics',\n",
       " ',',\n",
       " 'Inc',\n",
       " '.',\n",
       " '(Nasdaq:',\n",
       " 'HARP',\n",
       " ').',\n",
       " 'Harpoon',\n",
       " 'is',\n",
       " 'now',\n",
       " 'a',\n",
       " 'wholly',\n",
       " '-owned',\n",
       " 'subsidiary',\n",
       " 'of',\n",
       " 'Merck',\n",
       " ',',\n",
       " 'and',\n",
       " 'Harpoon',\n",
       " '’s',\n",
       " 'common',\n",
       " 'stock',\n",
       " 'will',\n",
       " 'no',\n",
       " 'longer',\n",
       " 'be',\n",
       " 'publicly',\n",
       " 'traded',\n",
       " 'or',\n",
       " 'listed',\n",
       " 'on',\n",
       " 'the',\n",
       " 'Nasdaq',\n",
       " 'Stock',\n",
       " 'Market',\n",
       " '.',\n",
       " 'Harpoon',\n",
       " '’s',\n",
       " 'lead',\n",
       " 'candidate',\n",
       " ',',\n",
       " 'MK',\n",
       " '-6070',\n",
       " '(formerly',\n",
       " 'known',\n",
       " 'as',\n",
       " 'HPN328',\n",
       " '),',\n",
       " 'is',\n",
       " 'a',\n",
       " 'T',\n",
       " '-cell',\n",
       " 'engager',\n",
       " 'targeting',\n",
       " 'delta',\n",
       " '-like',\n",
       " 'ligand',\n",
       " '3',\n",
       " '(DLL3),',\n",
       " 'an',\n",
       " 'inhibitory',\n",
       " 'canonical',\n",
       " 'Notch',\n",
       " 'ligand',\n",
       " 'that',\n",
       " 'is',\n",
       " 'expressed',\n",
       " 'at',\n",
       " 'high',\n",
       " 'levels',\n",
       " 'in',\n",
       " 'small',\n",
       " 'cell',\n",
       " 'lung',\n",
       " 'cancer',\n",
       " '(SCLC)',\n",
       " 'and',\n",
       " 'neuroendocrine',\n",
       " 'tumors',\n",
       " '.',\n",
       " 'The',\n",
       " 'safety',\n",
       " ',',\n",
       " 'tolerability',\n",
       " 'and',\n",
       " 'pharmacokinetics',\n",
       " 'of',\n",
       " 'MK',\n",
       " '-6070',\n",
       " 'is',\n",
       " 'currently',\n",
       " 'being',\n",
       " 'evaluated',\n",
       " 'as',\n",
       " 'monotherapy',\n",
       " 'in',\n",
       " 'a',\n",
       " 'Phase',\n",
       " '1',\n",
       " '/2',\n",
       " 'clinical',\n",
       " 'trial',\n",
       " '(NCT04471727)',\n",
       " 'in',\n",
       " 'certain',\n",
       " 'patients',\n",
       " 'with',\n",
       " 'advanced',\n",
       " 'cancers',\n",
       " 'associated',\n",
       " 'with',\n",
       " 'expression',\n",
       " 'of',\n",
       " 'DLL3',\n",
       " '.',\n",
       " 'The',\n",
       " 'study',\n",
       " 'is',\n",
       " 'also',\n",
       " 'evaluating',\n",
       " 'MK',\n",
       " '-6070',\n",
       " 'in',\n",
       " 'combination',\n",
       " 'with',\n",
       " 'atezolizumab',\n",
       " 'in',\n",
       " 'certain',\n",
       " 'patients',\n",
       " 'with',\n",
       " 'SCLC',\n",
       " '.',\n",
       " 'In',\n",
       " 'March',\n",
       " '2022',\n",
       " ',',\n",
       " 'the',\n",
       " 'U',\n",
       " '.S.',\n",
       " 'Food',\n",
       " 'and',\n",
       " 'Drug',\n",
       " 'Administration',\n",
       " '(FDA)',\n",
       " 'granted',\n",
       " 'Orphan',\n",
       " 'Drug',\n",
       " 'Designation',\n",
       " 'to',\n",
       " 'MK',\n",
       " '-6070',\n",
       " 'for',\n",
       " 'the',\n",
       " 'treatment',\n",
       " 'of',\n",
       " 'SCLC',\n",
       " '.']"
      ]
     },
     "execution_count": 33,
     "metadata": {},
     "output_type": "execute_result"
    }
   ],
   "source": [
    "# Run tokenizer.\n",
    "tokenizer_1.tokenize(s)"
   ]
  },
  {
   "cell_type": "markdown",
   "metadata": {},
   "source": [
    "`tokenizer_1` splits tokens up by spaces or by periods that are not attached to a digit."
   ]
  },
  {
   "cell_type": "code",
   "execution_count": 34,
   "metadata": {
    "scrolled": true
   },
   "outputs": [
    {
     "data": {
      "text/plain": [
       "['Merck',\n",
       " '(NYSE:',\n",
       " 'MRK),',\n",
       " 'known',\n",
       " 'as',\n",
       " 'MSD',\n",
       " 'outside',\n",
       " 'of',\n",
       " 'the',\n",
       " 'United',\n",
       " 'States',\n",
       " 'and',\n",
       " 'Canada,',\n",
       " 'today',\n",
       " 'announced',\n",
       " 'the',\n",
       " 'completion',\n",
       " 'of',\n",
       " 'the',\n",
       " 'acquisition',\n",
       " 'of',\n",
       " 'Harpoon',\n",
       " 'Therapeutics,',\n",
       " 'Inc.',\n",
       " '(Nasdaq:',\n",
       " 'HARP).',\n",
       " 'Harpoon',\n",
       " 'is',\n",
       " 'now',\n",
       " 'a',\n",
       " 'wholly-owned',\n",
       " 'subsidiary',\n",
       " 'of',\n",
       " 'Merck,',\n",
       " 'and',\n",
       " 'Harpoon’s',\n",
       " 'common',\n",
       " 'stock',\n",
       " 'will',\n",
       " 'no',\n",
       " 'longer',\n",
       " 'be',\n",
       " 'publicly',\n",
       " 'traded',\n",
       " 'or',\n",
       " 'listed',\n",
       " 'on',\n",
       " 'the',\n",
       " 'Nasdaq',\n",
       " 'Stock',\n",
       " 'Market.',\n",
       " 'Harpoon’s',\n",
       " 'lead',\n",
       " 'candidate,',\n",
       " 'MK-6070',\n",
       " '(formerly',\n",
       " 'known',\n",
       " 'as',\n",
       " 'HPN328),',\n",
       " 'is',\n",
       " 'a',\n",
       " 'T-cell',\n",
       " 'engager',\n",
       " 'targeting',\n",
       " 'delta-like',\n",
       " 'ligand',\n",
       " '3',\n",
       " '(DLL3),',\n",
       " 'an',\n",
       " 'inhibitory',\n",
       " 'canonical',\n",
       " 'Notch',\n",
       " 'ligand',\n",
       " 'that',\n",
       " 'is',\n",
       " 'expressed',\n",
       " 'at',\n",
       " 'high',\n",
       " 'levels',\n",
       " 'in',\n",
       " 'small',\n",
       " 'cell',\n",
       " 'lung',\n",
       " 'cancer',\n",
       " '(SCLC)',\n",
       " 'and',\n",
       " 'neuroendocrine',\n",
       " 'tumors.',\n",
       " 'The',\n",
       " 'safety,',\n",
       " 'tolerability',\n",
       " 'and',\n",
       " 'pharmacokinetics',\n",
       " 'of',\n",
       " 'MK-6070',\n",
       " 'is',\n",
       " 'currently',\n",
       " 'being',\n",
       " 'evaluated',\n",
       " 'as',\n",
       " 'monotherapy',\n",
       " 'in',\n",
       " 'a',\n",
       " 'Phase',\n",
       " '1/2',\n",
       " 'clinical',\n",
       " 'trial',\n",
       " '(NCT04471727)',\n",
       " 'in',\n",
       " 'certain',\n",
       " 'patients',\n",
       " 'with',\n",
       " 'advanced',\n",
       " 'cancers',\n",
       " 'associated',\n",
       " 'with',\n",
       " 'expression',\n",
       " 'of',\n",
       " 'DLL3.',\n",
       " 'The',\n",
       " 'study',\n",
       " 'is',\n",
       " 'also',\n",
       " 'evaluating',\n",
       " 'MK-6070',\n",
       " 'in',\n",
       " 'combination',\n",
       " 'with',\n",
       " 'atezolizumab',\n",
       " 'in',\n",
       " 'certain',\n",
       " 'patients',\n",
       " 'with',\n",
       " 'SCLC.',\n",
       " 'In',\n",
       " 'March',\n",
       " '2022,',\n",
       " 'the',\n",
       " 'U.S.',\n",
       " 'Food',\n",
       " 'and',\n",
       " 'Drug',\n",
       " 'Administration',\n",
       " '(FDA)',\n",
       " 'granted',\n",
       " 'Orphan',\n",
       " 'Drug',\n",
       " 'Designation',\n",
       " 'to',\n",
       " 'MK-6070',\n",
       " 'for',\n",
       " 'the',\n",
       " 'treatment',\n",
       " 'of',\n",
       " 'SCLC.']"
      ]
     },
     "execution_count": 34,
     "metadata": {},
     "output_type": "execute_result"
    }
   ],
   "source": [
    "# Instantiate tokenizer.\n",
    "tokenizer_2 = RegexpTokenizer('\\s+', gaps=True)\n",
    "\n",
    "# Run tokenizer.\n",
    "tokenizer_2.tokenize(s)"
   ]
  },
  {
   "cell_type": "markdown",
   "metadata": {},
   "source": [
    "`tokenizer_2` will identify the spaces. By setting `gaps = True`, we're grabbing everything else: thus, we're splitting our tokens up by spaces.\n",
    "- If you changed to `gaps = False`, you'll return only the whitespaces!"
   ]
  },
  {
   "cell_type": "code",
   "execution_count": 35,
   "metadata": {},
   "outputs": [
    {
     "data": {
      "text/plain": [
       "['Merck',\n",
       " 'NYSE',\n",
       " 'MRK',\n",
       " 'MSD',\n",
       " 'United',\n",
       " 'States',\n",
       " 'Canada',\n",
       " 'Harpoon',\n",
       " 'Therapeutics',\n",
       " 'Inc',\n",
       " 'Nasdaq',\n",
       " 'HARP',\n",
       " 'Harpoon',\n",
       " 'Merck',\n",
       " 'Harpoon',\n",
       " 'Nasdaq',\n",
       " 'Stock',\n",
       " 'Market',\n",
       " 'Harpoon',\n",
       " 'MK',\n",
       " 'HPN328',\n",
       " 'DLL3',\n",
       " 'Notch',\n",
       " 'SCLC',\n",
       " 'The',\n",
       " 'MK',\n",
       " 'Phase',\n",
       " 'NCT04471727',\n",
       " 'DLL3',\n",
       " 'The',\n",
       " 'MK',\n",
       " 'SCLC',\n",
       " 'In',\n",
       " 'March',\n",
       " 'Food',\n",
       " 'Drug',\n",
       " 'Administration',\n",
       " 'FDA',\n",
       " 'Orphan',\n",
       " 'Drug',\n",
       " 'Designation',\n",
       " 'MK',\n",
       " 'SCLC']"
      ]
     },
     "execution_count": 35,
     "metadata": {},
     "output_type": "execute_result"
    }
   ],
   "source": [
    "# Instantiate tokenizer.\n",
    "tokenizer_3 = RegexpTokenizer('[A-Z]\\w+')\n",
    "\n",
    "# Run tokenizer.\n",
    "tokenizer_3.tokenize(s)"
   ]
  },
  {
   "cell_type": "markdown",
   "metadata": {},
   "source": [
    "`tokenizer_3` returns only words that begin with a capital letter.\n",
    "\n",
    "As you can imagine, using RegEx _can_ be incredibly helpful if you want to find text matching a specific pattern.\n",
    "- People used to use two spaces after a period to split sentences up; you could use RegEx to detect that pattern and tokenize on entire sentences.\n",
    "- Chapters in a book could be titled \"Chapter\" followed by a number; you could use RegEx to detect that pattern and tokenize a book by its chapters.\n",
    "- When Python libraries are upgraded, syntax changes! Perhaps you want to detect a certain pattern of syntax so you can update your code efficiently."
   ]
  },
  {
   "cell_type": "markdown",
   "metadata": {},
   "source": [
    "![](./images/regex.png)\n",
    "\n",
    "[_from xkcd_](https://xkcd.com/1171/)"
   ]
  },
  {
   "cell_type": "markdown",
   "metadata": {},
   "source": [
    "## Lemmatizing & Stemming\n",
    "\n",
    "- \"He is *running* really fast!\"\n",
    "- \"He *ran* the race.\"\n",
    "- \"He *runs* a five-minute mile.\"\n",
    "\n",
    "If we wanted a computer to interpret these sentences, I might count up how many times I see each word. The computer will treat words like \"running,\" \"ran,\" and \"runs\" differently... but they mean very similar things (in this context)!\n",
    "\n",
    "**Lemmatizing** and **stemming** are two forms of shortening words so we can combine similar forms of the same word.\n",
    "\n",
    "When we \"**lemmatize**\" data, we take words and attempt to return their *lemma*, or the base/dictionary form of a word."
   ]
  },
  {
   "cell_type": "code",
   "execution_count": 36,
   "metadata": {},
   "outputs": [],
   "source": [
    "# Instantiate lemmatizer. \n",
    "lemmatizer = WordNetLemmatizer()"
   ]
  },
  {
   "cell_type": "code",
   "execution_count": 37,
   "metadata": {},
   "outputs": [],
   "source": [
    "# Lemmatize tokens.\n",
    "tokens_lem = [lemmatizer.lemmatize(i) for i in text_tokens]"
   ]
  },
  {
   "cell_type": "code",
   "execution_count": 38,
   "metadata": {
    "scrolled": true
   },
   "outputs": [
    {
     "data": {
      "text/plain": [
       "[('merck', 'merck'),\n",
       " ('nyse', 'nyse'),\n",
       " ('mrk', 'mrk'),\n",
       " ('known', 'known'),\n",
       " ('as', 'a'),\n",
       " ('msd', 'msd'),\n",
       " ('outside', 'outside'),\n",
       " ('of', 'of'),\n",
       " ('the', 'the'),\n",
       " ('united', 'united'),\n",
       " ('states', 'state'),\n",
       " ('and', 'and'),\n",
       " ('canada', 'canada'),\n",
       " ('today', 'today'),\n",
       " ('announced', 'announced'),\n",
       " ('the', 'the'),\n",
       " ('completion', 'completion'),\n",
       " ('of', 'of'),\n",
       " ('the', 'the'),\n",
       " ('acquisition', 'acquisition'),\n",
       " ('of', 'of'),\n",
       " ('harpoon', 'harpoon'),\n",
       " ('therapeutics', 'therapeutic'),\n",
       " ('inc', 'inc'),\n",
       " ('nasdaq', 'nasdaq'),\n",
       " ('harp', 'harp'),\n",
       " ('harpoon', 'harpoon'),\n",
       " ('is', 'is'),\n",
       " ('now', 'now'),\n",
       " ('a', 'a'),\n",
       " ('wholly', 'wholly'),\n",
       " ('owned', 'owned'),\n",
       " ('subsidiary', 'subsidiary'),\n",
       " ('of', 'of'),\n",
       " ('merck', 'merck'),\n",
       " ('and', 'and'),\n",
       " ('harpoon', 'harpoon'),\n",
       " ('s', 's'),\n",
       " ('common', 'common'),\n",
       " ('stock', 'stock'),\n",
       " ('will', 'will'),\n",
       " ('no', 'no'),\n",
       " ('longer', 'longer'),\n",
       " ('be', 'be'),\n",
       " ('publicly', 'publicly'),\n",
       " ('traded', 'traded'),\n",
       " ('or', 'or'),\n",
       " ('listed', 'listed'),\n",
       " ('on', 'on'),\n",
       " ('the', 'the'),\n",
       " ('nasdaq', 'nasdaq'),\n",
       " ('stock', 'stock'),\n",
       " ('market', 'market'),\n",
       " ('harpoon', 'harpoon'),\n",
       " ('s', 's'),\n",
       " ('lead', 'lead'),\n",
       " ('candidate', 'candidate'),\n",
       " ('mk', 'mk'),\n",
       " ('6070', '6070'),\n",
       " ('formerly', 'formerly'),\n",
       " ('known', 'known'),\n",
       " ('as', 'a'),\n",
       " ('hpn328', 'hpn328'),\n",
       " ('is', 'is'),\n",
       " ('a', 'a'),\n",
       " ('t', 't'),\n",
       " ('cell', 'cell'),\n",
       " ('engager', 'engager'),\n",
       " ('targeting', 'targeting'),\n",
       " ('delta', 'delta'),\n",
       " ('like', 'like'),\n",
       " ('ligand', 'ligand'),\n",
       " ('3', '3'),\n",
       " ('dll3', 'dll3'),\n",
       " ('an', 'an'),\n",
       " ('inhibitory', 'inhibitory'),\n",
       " ('canonical', 'canonical'),\n",
       " ('notch', 'notch'),\n",
       " ('ligand', 'ligand'),\n",
       " ('that', 'that'),\n",
       " ('is', 'is'),\n",
       " ('expressed', 'expressed'),\n",
       " ('at', 'at'),\n",
       " ('high', 'high'),\n",
       " ('levels', 'level'),\n",
       " ('in', 'in'),\n",
       " ('small', 'small'),\n",
       " ('cell', 'cell'),\n",
       " ('lung', 'lung'),\n",
       " ('cancer', 'cancer'),\n",
       " ('sclc', 'sclc'),\n",
       " ('and', 'and'),\n",
       " ('neuroendocrine', 'neuroendocrine'),\n",
       " ('tumors', 'tumor'),\n",
       " ('the', 'the'),\n",
       " ('safety', 'safety'),\n",
       " ('tolerability', 'tolerability'),\n",
       " ('and', 'and'),\n",
       " ('pharmacokinetics', 'pharmacokinetics'),\n",
       " ('of', 'of'),\n",
       " ('mk', 'mk'),\n",
       " ('6070', '6070'),\n",
       " ('is', 'is'),\n",
       " ('currently', 'currently'),\n",
       " ('being', 'being'),\n",
       " ('evaluated', 'evaluated'),\n",
       " ('as', 'a'),\n",
       " ('monotherapy', 'monotherapy'),\n",
       " ('in', 'in'),\n",
       " ('a', 'a'),\n",
       " ('phase', 'phase'),\n",
       " ('1', '1'),\n",
       " ('2', '2'),\n",
       " ('clinical', 'clinical'),\n",
       " ('trial', 'trial'),\n",
       " ('nct04471727', 'nct04471727'),\n",
       " ('in', 'in'),\n",
       " ('certain', 'certain'),\n",
       " ('patients', 'patient'),\n",
       " ('with', 'with'),\n",
       " ('advanced', 'advanced'),\n",
       " ('cancers', 'cancer'),\n",
       " ('associated', 'associated'),\n",
       " ('with', 'with'),\n",
       " ('expression', 'expression'),\n",
       " ('of', 'of'),\n",
       " ('dll3', 'dll3'),\n",
       " ('the', 'the'),\n",
       " ('study', 'study'),\n",
       " ('is', 'is'),\n",
       " ('also', 'also'),\n",
       " ('evaluating', 'evaluating'),\n",
       " ('mk', 'mk'),\n",
       " ('6070', '6070'),\n",
       " ('in', 'in'),\n",
       " ('combination', 'combination'),\n",
       " ('with', 'with'),\n",
       " ('atezolizumab', 'atezolizumab'),\n",
       " ('in', 'in'),\n",
       " ('certain', 'certain'),\n",
       " ('patients', 'patient'),\n",
       " ('with', 'with'),\n",
       " ('sclc', 'sclc'),\n",
       " ('in', 'in'),\n",
       " ('march', 'march'),\n",
       " ('2022', '2022'),\n",
       " ('the', 'the'),\n",
       " ('u', 'u'),\n",
       " ('s', 's'),\n",
       " ('food', 'food'),\n",
       " ('and', 'and'),\n",
       " ('drug', 'drug'),\n",
       " ('administration', 'administration'),\n",
       " ('fda', 'fda'),\n",
       " ('granted', 'granted'),\n",
       " ('orphan', 'orphan'),\n",
       " ('drug', 'drug'),\n",
       " ('designation', 'designation'),\n",
       " ('to', 'to'),\n",
       " ('mk', 'mk'),\n",
       " ('6070', '6070'),\n",
       " ('for', 'for'),\n",
       " ('the', 'the'),\n",
       " ('treatment', 'treatment'),\n",
       " ('of', 'of'),\n",
       " ('sclc', 'sclc')]"
      ]
     },
     "execution_count": 38,
     "metadata": {},
     "output_type": "execute_result"
    }
   ],
   "source": [
    "# Compare tokens to lemmatized version.\n",
    "list(zip(text_tokens, tokens_lem))"
   ]
  },
  {
   "cell_type": "code",
   "execution_count": 39,
   "metadata": {},
   "outputs": [
    {
     "data": {
      "text/plain": [
       "[('as', 'a'),\n",
       " ('states', 'state'),\n",
       " ('therapeutics', 'therapeutic'),\n",
       " ('as', 'a'),\n",
       " ('levels', 'level'),\n",
       " ('tumors', 'tumor'),\n",
       " ('as', 'a'),\n",
       " ('patients', 'patient'),\n",
       " ('cancers', 'cancer'),\n",
       " ('patients', 'patient')]"
      ]
     },
     "execution_count": 39,
     "metadata": {},
     "output_type": "execute_result"
    }
   ],
   "source": [
    "# Print only those lemmatized tokens that are different.\n",
    "[(text_tokens[i], tokens_lem[i]) for i in range(len(text_tokens)) if text_tokens[i] != tokens_lem[i]]"
   ]
  },
  {
   "cell_type": "markdown",
   "metadata": {},
   "source": [
    "Lemmatizing is usually the more correct and precise way of handling things from a grammatical point of view, but also might not have much of an effect.\n",
    "\n",
    "We can also do this on individual words."
   ]
  },
  {
   "cell_type": "markdown",
   "metadata": {},
   "source": [
    "When we \"**stem**\" data, we take words and attempt to return a base form of the word. It tends to be cruder than using lemmatization. There's a [method developed by Porter in 1980](https://www.cs.toronto.edu/~frank/csc2501/Readings/R2_Porter/Porter-1980.pdf) that explains the algorithm used below."
   ]
  },
  {
   "cell_type": "code",
   "execution_count": 40,
   "metadata": {},
   "outputs": [],
   "source": [
    "# Instantiate PorterStemmer.\n",
    "p_stemmer = PorterStemmer()"
   ]
  },
  {
   "cell_type": "code",
   "execution_count": 41,
   "metadata": {},
   "outputs": [],
   "source": [
    "# Stem tokens.\n",
    "stem_text = [p_stemmer.stem(i) for i in text_tokens] "
   ]
  },
  {
   "cell_type": "code",
   "execution_count": 42,
   "metadata": {
    "scrolled": true
   },
   "outputs": [
    {
     "data": {
      "text/plain": [
       "[('merck', 'merck'),\n",
       " ('nyse', 'nyse'),\n",
       " ('mrk', 'mrk'),\n",
       " ('known', 'known'),\n",
       " ('as', 'as'),\n",
       " ('msd', 'msd'),\n",
       " ('outside', 'outsid'),\n",
       " ('of', 'of'),\n",
       " ('the', 'the'),\n",
       " ('united', 'unit'),\n",
       " ('states', 'state'),\n",
       " ('and', 'and'),\n",
       " ('canada', 'canada'),\n",
       " ('today', 'today'),\n",
       " ('announced', 'announc'),\n",
       " ('the', 'the'),\n",
       " ('completion', 'complet'),\n",
       " ('of', 'of'),\n",
       " ('the', 'the'),\n",
       " ('acquisition', 'acquisit'),\n",
       " ('of', 'of'),\n",
       " ('harpoon', 'harpoon'),\n",
       " ('therapeutics', 'therapeut'),\n",
       " ('inc', 'inc'),\n",
       " ('nasdaq', 'nasdaq'),\n",
       " ('harp', 'harp'),\n",
       " ('harpoon', 'harpoon'),\n",
       " ('is', 'is'),\n",
       " ('now', 'now'),\n",
       " ('a', 'a'),\n",
       " ('wholly', 'wholli'),\n",
       " ('owned', 'own'),\n",
       " ('subsidiary', 'subsidiari'),\n",
       " ('of', 'of'),\n",
       " ('merck', 'merck'),\n",
       " ('and', 'and'),\n",
       " ('harpoon', 'harpoon'),\n",
       " ('s', 's'),\n",
       " ('common', 'common'),\n",
       " ('stock', 'stock'),\n",
       " ('will', 'will'),\n",
       " ('no', 'no'),\n",
       " ('longer', 'longer'),\n",
       " ('be', 'be'),\n",
       " ('publicly', 'publicli'),\n",
       " ('traded', 'trade'),\n",
       " ('or', 'or'),\n",
       " ('listed', 'list'),\n",
       " ('on', 'on'),\n",
       " ('the', 'the'),\n",
       " ('nasdaq', 'nasdaq'),\n",
       " ('stock', 'stock'),\n",
       " ('market', 'market'),\n",
       " ('harpoon', 'harpoon'),\n",
       " ('s', 's'),\n",
       " ('lead', 'lead'),\n",
       " ('candidate', 'candid'),\n",
       " ('mk', 'mk'),\n",
       " ('6070', '6070'),\n",
       " ('formerly', 'formerli'),\n",
       " ('known', 'known'),\n",
       " ('as', 'as'),\n",
       " ('hpn328', 'hpn328'),\n",
       " ('is', 'is'),\n",
       " ('a', 'a'),\n",
       " ('t', 't'),\n",
       " ('cell', 'cell'),\n",
       " ('engager', 'engag'),\n",
       " ('targeting', 'target'),\n",
       " ('delta', 'delta'),\n",
       " ('like', 'like'),\n",
       " ('ligand', 'ligand'),\n",
       " ('3', '3'),\n",
       " ('dll3', 'dll3'),\n",
       " ('an', 'an'),\n",
       " ('inhibitory', 'inhibitori'),\n",
       " ('canonical', 'canon'),\n",
       " ('notch', 'notch'),\n",
       " ('ligand', 'ligand'),\n",
       " ('that', 'that'),\n",
       " ('is', 'is'),\n",
       " ('expressed', 'express'),\n",
       " ('at', 'at'),\n",
       " ('high', 'high'),\n",
       " ('levels', 'level'),\n",
       " ('in', 'in'),\n",
       " ('small', 'small'),\n",
       " ('cell', 'cell'),\n",
       " ('lung', 'lung'),\n",
       " ('cancer', 'cancer'),\n",
       " ('sclc', 'sclc'),\n",
       " ('and', 'and'),\n",
       " ('neuroendocrine', 'neuroendocrin'),\n",
       " ('tumors', 'tumor'),\n",
       " ('the', 'the'),\n",
       " ('safety', 'safeti'),\n",
       " ('tolerability', 'toler'),\n",
       " ('and', 'and'),\n",
       " ('pharmacokinetics', 'pharmacokinet'),\n",
       " ('of', 'of'),\n",
       " ('mk', 'mk'),\n",
       " ('6070', '6070'),\n",
       " ('is', 'is'),\n",
       " ('currently', 'current'),\n",
       " ('being', 'be'),\n",
       " ('evaluated', 'evalu'),\n",
       " ('as', 'as'),\n",
       " ('monotherapy', 'monotherapi'),\n",
       " ('in', 'in'),\n",
       " ('a', 'a'),\n",
       " ('phase', 'phase'),\n",
       " ('1', '1'),\n",
       " ('2', '2'),\n",
       " ('clinical', 'clinic'),\n",
       " ('trial', 'trial'),\n",
       " ('nct04471727', 'nct04471727'),\n",
       " ('in', 'in'),\n",
       " ('certain', 'certain'),\n",
       " ('patients', 'patient'),\n",
       " ('with', 'with'),\n",
       " ('advanced', 'advanc'),\n",
       " ('cancers', 'cancer'),\n",
       " ('associated', 'associ'),\n",
       " ('with', 'with'),\n",
       " ('expression', 'express'),\n",
       " ('of', 'of'),\n",
       " ('dll3', 'dll3'),\n",
       " ('the', 'the'),\n",
       " ('study', 'studi'),\n",
       " ('is', 'is'),\n",
       " ('also', 'also'),\n",
       " ('evaluating', 'evalu'),\n",
       " ('mk', 'mk'),\n",
       " ('6070', '6070'),\n",
       " ('in', 'in'),\n",
       " ('combination', 'combin'),\n",
       " ('with', 'with'),\n",
       " ('atezolizumab', 'atezolizumab'),\n",
       " ('in', 'in'),\n",
       " ('certain', 'certain'),\n",
       " ('patients', 'patient'),\n",
       " ('with', 'with'),\n",
       " ('sclc', 'sclc'),\n",
       " ('in', 'in'),\n",
       " ('march', 'march'),\n",
       " ('2022', '2022'),\n",
       " ('the', 'the'),\n",
       " ('u', 'u'),\n",
       " ('s', 's'),\n",
       " ('food', 'food'),\n",
       " ('and', 'and'),\n",
       " ('drug', 'drug'),\n",
       " ('administration', 'administr'),\n",
       " ('fda', 'fda'),\n",
       " ('granted', 'grant'),\n",
       " ('orphan', 'orphan'),\n",
       " ('drug', 'drug'),\n",
       " ('designation', 'design'),\n",
       " ('to', 'to'),\n",
       " ('mk', 'mk'),\n",
       " ('6070', '6070'),\n",
       " ('for', 'for'),\n",
       " ('the', 'the'),\n",
       " ('treatment', 'treatment'),\n",
       " ('of', 'of'),\n",
       " ('sclc', 'sclc')]"
      ]
     },
     "execution_count": 42,
     "metadata": {},
     "output_type": "execute_result"
    }
   ],
   "source": [
    "# Compare tokens to stemmed version.\n",
    "list(zip(text_tokens, stem_text))"
   ]
  },
  {
   "cell_type": "code",
   "execution_count": 43,
   "metadata": {},
   "outputs": [
    {
     "data": {
      "text/plain": [
       "[('outside', 'outsid'),\n",
       " ('united', 'unit'),\n",
       " ('states', 'state'),\n",
       " ('announced', 'announc'),\n",
       " ('completion', 'complet'),\n",
       " ('acquisition', 'acquisit'),\n",
       " ('therapeutics', 'therapeut'),\n",
       " ('wholly', 'wholli'),\n",
       " ('owned', 'own'),\n",
       " ('subsidiary', 'subsidiari'),\n",
       " ('publicly', 'publicli'),\n",
       " ('traded', 'trade'),\n",
       " ('listed', 'list'),\n",
       " ('candidate', 'candid'),\n",
       " ('formerly', 'formerli'),\n",
       " ('engager', 'engag'),\n",
       " ('targeting', 'target'),\n",
       " ('inhibitory', 'inhibitori'),\n",
       " ('canonical', 'canon'),\n",
       " ('expressed', 'express'),\n",
       " ('levels', 'level'),\n",
       " ('neuroendocrine', 'neuroendocrin'),\n",
       " ('tumors', 'tumor'),\n",
       " ('safety', 'safeti'),\n",
       " ('tolerability', 'toler'),\n",
       " ('pharmacokinetics', 'pharmacokinet'),\n",
       " ('currently', 'current'),\n",
       " ('being', 'be'),\n",
       " ('evaluated', 'evalu'),\n",
       " ('monotherapy', 'monotherapi'),\n",
       " ('clinical', 'clinic'),\n",
       " ('patients', 'patient'),\n",
       " ('advanced', 'advanc'),\n",
       " ('cancers', 'cancer'),\n",
       " ('associated', 'associ'),\n",
       " ('expression', 'express'),\n",
       " ('study', 'studi'),\n",
       " ('evaluating', 'evalu'),\n",
       " ('combination', 'combin'),\n",
       " ('patients', 'patient'),\n",
       " ('administration', 'administr'),\n",
       " ('granted', 'grant'),\n",
       " ('designation', 'design')]"
      ]
     },
     "execution_count": 43,
     "metadata": {},
     "output_type": "execute_result"
    }
   ],
   "source": [
    "# Print only those stemmed tokens that are different.\n",
    "\n",
    "[(text_tokens[i], stem_text[i]) for i in range(len(text_tokens)) if text_tokens[i] != stem_text[i]] "
   ]
  },
  {
   "cell_type": "markdown",
   "metadata": {},
   "source": [
    "We can also do this on individual words as well."
   ]
  },
  {
   "cell_type": "markdown",
   "metadata": {},
   "source": [
    "## Stop Word Removal"
   ]
  },
  {
   "cell_type": "markdown",
   "metadata": {},
   "source": [
    "The following sentence has had stop words (and punctuation) removed:\n",
    "\n",
    "\"Answer great question life universe everything said deep thought said deep thought paused forty two said deep thought infinite majesty calm.\""
   ]
  },
  {
   "cell_type": "markdown",
   "metadata": {},
   "source": [
    "<details><summary>Based on this, how would you define stop words?</summary>\n",
    "\n",
    "Stop words are words that have little to no significance or meaning. They are common words that only add to the grammatical structure and flow of the sentence, so it is still relatively easy to identify the contents of sentences without stop words.\n",
    "</details>"
   ]
  },
  {
   "cell_type": "code",
   "execution_count": 44,
   "metadata": {},
   "outputs": [],
   "source": [
    "# Print English stopwords.\n",
    "# print(stopwords.words('english'))"
   ]
  },
  {
   "cell_type": "code",
   "execution_count": 45,
   "metadata": {},
   "outputs": [],
   "source": [
    "# Remove stopwords from \"text_tokens.\"\n",
    "no_stop_words = [token for token in text_tokens if token not in stopwords.words('english')]"
   ]
  },
  {
   "cell_type": "code",
   "execution_count": 46,
   "metadata": {},
   "outputs": [
    {
     "name": "stdout",
     "output_type": "stream",
     "text": [
      "['merck', 'nyse', 'mrk', 'known', 'msd', 'outside', 'united', 'states', 'canada', 'today', 'announced', 'completion', 'acquisition', 'harpoon', 'therapeutics', 'inc', 'nasdaq', 'harp', 'harpoon', 'wholly', 'owned', 'subsidiary', 'merck', 'harpoon', 'common', 'stock', 'longer', 'publicly', 'traded', 'listed', 'nasdaq', 'stock', 'market', 'harpoon', 'lead', 'candidate', 'mk', '6070', 'formerly', 'known', 'hpn328', 'cell', 'engager', 'targeting', 'delta', 'like', 'ligand', '3', 'dll3', 'inhibitory', 'canonical', 'notch', 'ligand', 'expressed', 'high', 'levels', 'small', 'cell', 'lung', 'cancer', 'sclc', 'neuroendocrine', 'tumors', 'safety', 'tolerability', 'pharmacokinetics', 'mk', '6070', 'currently', 'evaluated', 'monotherapy', 'phase', '1', '2', 'clinical', 'trial', 'nct04471727', 'certain', 'patients', 'advanced', 'cancers', 'associated', 'expression', 'dll3', 'study', 'also', 'evaluating', 'mk', '6070', 'combination', 'atezolizumab', 'certain', 'patients', 'sclc', 'march', '2022', 'u', 'food', 'drug', 'administration', 'fda', 'granted', 'orphan', 'drug', 'designation', 'mk', '6070', 'treatment', 'sclc']\n"
     ]
    }
   ],
   "source": [
    "# Check it\n",
    "print(no_stop_words)"
   ]
  },
  {
   "cell_type": "code",
   "execution_count": 47,
   "metadata": {},
   "outputs": [
    {
     "name": "stdout",
     "output_type": "stream",
     "text": [
      "['merck', 'nyse', 'mrk', 'known', 'as', 'msd', 'outside', 'of', 'the', 'united', 'states', 'and', 'canada', 'today', 'announced', 'the', 'completion', 'of', 'the', 'acquisition', 'of', 'harpoon', 'therapeutics', 'inc', 'nasdaq', 'harp', 'harpoon', 'is', 'now', 'a', 'wholly', 'owned', 'subsidiary', 'of', 'merck', 'and', 'harpoon', 's', 'common', 'stock', 'will', 'no', 'longer', 'be', 'publicly', 'traded', 'or', 'listed', 'on', 'the', 'nasdaq', 'stock', 'market', 'harpoon', 's', 'lead', 'candidate', 'mk', '6070', 'formerly', 'known', 'as', 'hpn328', 'is', 'a', 't', 'cell', 'engager', 'targeting', 'delta', 'like', 'ligand', '3', 'dll3', 'an', 'inhibitory', 'canonical', 'notch', 'ligand', 'that', 'is', 'expressed', 'at', 'high', 'levels', 'in', 'small', 'cell', 'lung', 'cancer', 'sclc', 'and', 'neuroendocrine', 'tumors', 'the', 'safety', 'tolerability', 'and', 'pharmacokinetics', 'of', 'mk', '6070', 'is', 'currently', 'being', 'evaluated', 'as', 'monotherapy', 'in', 'a', 'phase', '1', '2', 'clinical', 'trial', 'nct04471727', 'in', 'certain', 'patients', 'with', 'advanced', 'cancers', 'associated', 'with', 'expression', 'of', 'dll3', 'the', 'study', 'is', 'also', 'evaluating', 'mk', '6070', 'in', 'combination', 'with', 'atezolizumab', 'in', 'certain', 'patients', 'with', 'sclc', 'in', 'march', '2022', 'the', 'u', 's', 'food', 'and', 'drug', 'administration', 'fda', 'granted', 'orphan', 'drug', 'designation', 'to', 'mk', '6070', 'for', 'the', 'treatment', 'of', 'sclc']\n"
     ]
    }
   ],
   "source": [
    "print(text_tokens)"
   ]
  },
  {
   "cell_type": "code",
   "execution_count": 48,
   "metadata": {},
   "outputs": [],
   "source": [
    "# len(no_stop_words), len(text_tokens)"
   ]
  },
  {
   "cell_type": "markdown",
   "metadata": {},
   "source": [
    "---\n",
    "\n",
    "# Sentiment Analysis\n",
    "\n",
    "![](./images/sent.jpeg)\n",
    "\n",
    "[Sentiment analysis](https://www.kdnuggets.com/2018/08/emotion-sentiment-analysis-practitioners-guide-nlp-5.html) is an area of natural language processing in which we seek to classify text as having positive or negative emotion.\n",
    "\n",
    "Let's build a simple function that can classify text as either having positive or negative sentiment.\n",
    "\n",
    "What words tell us whether certain text is positive?"
   ]
  },
  {
   "cell_type": "code",
   "execution_count": 80,
   "metadata": {},
   "outputs": [],
   "source": [
    "# # Let's come up with a list of positive and negative words we might observe.\n",
    "\n",
    "# positive_words = ['improvement', 'recommends', 'delight', 'good', 'great', 'awesome', 'tremendous', 'fabulous',\n",
    "#                  'amazing', 'stellar', 'fantastic', 'super']\n",
    "# negative_words = ['adverse', 'unlikely', 'ugly', 'bad', 'disgusting', 'terrible', 'gross', 'awful', 'worst']"
   ]
  },
  {
   "cell_type": "code",
   "execution_count": 81,
   "metadata": {
    "ExecuteTime": {
     "end_time": "2017-10-25T10:03:50.010475Z",
     "start_time": "2017-10-25T10:03:50.006364Z"
    }
   },
   "outputs": [],
   "source": [
    "# def simple_sentiment(text):\n",
    "#     # Instantiate tokenizer.\n",
    "#     tokenizer = RegexpTokenizer(r'\\w+')\n",
    "    \n",
    "#     # Tokenize text.\n",
    "#     tokens = tokenizer.tokenize(text.lower())\n",
    "    \n",
    "#     # Instantiate stemmer.\n",
    "#     p_stemmer = PorterStemmer()\n",
    "    \n",
    "#     # Stem words.\n",
    "#     stemmed_words = [p_stemmer.stem(i) for i in tokens]\n",
    "    \n",
    "#     # Stem our positive/negative words.\n",
    "#     positive_stems = [p_stemmer.stem(i) for i in positive_words]\n",
    "#     negative_stems = [p_stemmer.stem(i) for i in negative_words]\n",
    "\n",
    "#     # Count \"positive\" words.\n",
    "#     positive_count = sum([1 for i in stemmed_words if i in positive_stems])\n",
    "    \n",
    "#     # Count \"negative\" words\n",
    "#     negative_count = sum([1 for i in stemmed_words if i in negative_stems])\n",
    "    \n",
    "#     # Calculate Sentiment Percentage \n",
    "#     # (Positive Count - Negative Count) / (Total Count)\n",
    "\n",
    "#     return round((positive_count - negative_count) / len(tokens), 2)"
   ]
  },
  {
   "cell_type": "code",
   "execution_count": 82,
   "metadata": {},
   "outputs": [
    {
     "data": {
      "text/plain": [
       "'Merck (NYSE: MRK), known as MSD outside of the United States and Canada, today announced the completion of the acquisition of Harpoon Therapeutics, Inc. (Nasdaq: HARP). Harpoon is now a wholly-owned subsidiary of Merck, and Harpoon’s common stock will no longer be publicly traded or listed on the Nasdaq Stock Market. Harpoon’s lead candidate, MK-6070 (formerly known as HPN328), is a T-cell engager targeting delta-like ligand 3 (DLL3), an inhibitory canonical Notch ligand that is expressed at high levels in small cell lung cancer (SCLC) and neuroendocrine tumors. The safety, tolerability and pharmacokinetics of MK-6070 is currently being evaluated as monotherapy in a Phase 1/2 clinical trial (NCT04471727) in certain patients with advanced cancers associated with expression of DLL3. The study is also evaluating MK-6070 in combination with atezolizumab in certain patients with SCLC. In March 2022, the U.S. Food and Drug Administration (FDA) granted Orphan Drug Designation to MK-6070 for the treatment of SCLC.'"
      ]
     },
     "execution_count": 82,
     "metadata": {},
     "output_type": "execute_result"
    }
   ],
   "source": [
    "# Run our sentiment analyzer on our spam email.\n",
    "text"
   ]
  },
  {
   "cell_type": "code",
   "execution_count": 86,
   "metadata": {},
   "outputs": [],
   "source": [
    "# simple_sentiment(text)"
   ]
  },
  {
   "cell_type": "markdown",
   "metadata": {},
   "source": [
    "<details><summary> What are some shortcomings of this method? </summary>\n",
    "\n",
    "- Primarily, we're limited to the positive/negative words we came up with.\n",
    "- If someone wrote \"not good\" or \"not bad,\" our sentiment function would probably treat \"not good\" as positive or neutral... but it's probably supposed to mean negative!\n",
    "- The ordering of the words doesn't matter here, which is not how language generally works.\n",
    "- We haven't corrected for misspellings.\n",
    "</details>"
   ]
  },
  {
   "cell_type": "markdown",
   "metadata": {},
   "source": [
    "There are a couple of ways to proceed with sentiment analysis:\n",
    "\n",
    "1. If you have already-labeled data, you can build a supervised learning model.\n",
    "2. If you don't have labeled data, you can use a Lexicon that has already been built/trained for sentiment analysis.\n",
    "    - There are a bunch of these and which to use depends on your purpose/data. Here are just a few that are available:\n",
    "        - AFINN lexicon\n",
    "        - MPQA subjectivity lexicon\n",
    "        - SentiWordNet\n",
    "        - VADER lexicon\n",
    "\n",
    "We will use the VADER (Valence Aware Dictionary and sEntiment Reasoner) lexicon to analyze the sentiments of our reviews!"
   ]
  },
  {
   "cell_type": "code",
   "execution_count": 56,
   "metadata": {},
   "outputs": [
    {
     "ename": "NameError",
     "evalue": "name 'nltk' is not defined",
     "output_type": "error",
     "traceback": [
      "\u001b[0;31m---------------------------------------------------------------------------\u001b[0m",
      "\u001b[0;31mNameError\u001b[0m                                 Traceback (most recent call last)",
      "Cell \u001b[0;32mIn[56], line 1\u001b[0m\n\u001b[0;32m----> 1\u001b[0m nltk\u001b[38;5;241m.\u001b[39mdownload(\u001b[38;5;124m'\u001b[39m\u001b[38;5;124mvader_lexicon\u001b[39m\u001b[38;5;124m'\u001b[39m)\n",
      "\u001b[0;31mNameError\u001b[0m: name 'nltk' is not defined"
     ]
    }
   ],
   "source": [
    "# nltk.download('vader_lexicon')  TODO: not working"
   ]
  },
  {
   "cell_type": "code",
   "execution_count": 55,
   "metadata": {},
   "outputs": [
    {
     "ename": "LookupError",
     "evalue": "\n**********************************************************************\n  Resource \u001b[93mvader_lexicon\u001b[0m not found.\n  Please use the NLTK Downloader to obtain the resource:\n\n  \u001b[31m>>> import nltk\n  >>> nltk.download('vader_lexicon')\n  \u001b[0m\n  For more information see: https://www.nltk.org/data.html\n\n  Attempted to load \u001b[93msentiment/vader_lexicon.zip/vader_lexicon/vader_lexicon.txt\u001b[0m\n\n  Searched in:\n    - '/Users/cka/nltk_data'\n    - '/Users/cka/miniconda3/envs/ga/nltk_data'\n    - '/Users/cka/miniconda3/envs/ga/share/nltk_data'\n    - '/Users/cka/miniconda3/envs/ga/lib/nltk_data'\n    - '/usr/share/nltk_data'\n    - '/usr/local/share/nltk_data'\n    - '/usr/lib/nltk_data'\n    - '/usr/local/lib/nltk_data'\n    - ''\n**********************************************************************\n",
     "output_type": "error",
     "traceback": [
      "\u001b[0;31m---------------------------------------------------------------------------\u001b[0m",
      "\u001b[0;31mLookupError\u001b[0m                               Traceback (most recent call last)",
      "Cell \u001b[0;32mIn[55], line 2\u001b[0m\n\u001b[1;32m      1\u001b[0m \u001b[38;5;66;03m# Instantiate Sentiment Intensity Analyzer\u001b[39;00m\n\u001b[0;32m----> 2\u001b[0m sent \u001b[38;5;241m=\u001b[39m SentimentIntensityAnalyzer()\n",
      "File \u001b[0;32m~/miniconda3/envs/ga/lib/python3.11/site-packages/nltk/sentiment/vader.py:340\u001b[0m, in \u001b[0;36mSentimentIntensityAnalyzer.__init__\u001b[0;34m(self, lexicon_file)\u001b[0m\n\u001b[1;32m    336\u001b[0m \u001b[38;5;28;01mdef\u001b[39;00m \u001b[38;5;21m__init__\u001b[39m(\n\u001b[1;32m    337\u001b[0m     \u001b[38;5;28mself\u001b[39m,\n\u001b[1;32m    338\u001b[0m     lexicon_file\u001b[38;5;241m=\u001b[39m\u001b[38;5;124m\"\u001b[39m\u001b[38;5;124msentiment/vader_lexicon.zip/vader_lexicon/vader_lexicon.txt\u001b[39m\u001b[38;5;124m\"\u001b[39m,\n\u001b[1;32m    339\u001b[0m ):\n\u001b[0;32m--> 340\u001b[0m     \u001b[38;5;28mself\u001b[39m\u001b[38;5;241m.\u001b[39mlexicon_file \u001b[38;5;241m=\u001b[39m nltk\u001b[38;5;241m.\u001b[39mdata\u001b[38;5;241m.\u001b[39mload(lexicon_file)\n\u001b[1;32m    341\u001b[0m     \u001b[38;5;28mself\u001b[39m\u001b[38;5;241m.\u001b[39mlexicon \u001b[38;5;241m=\u001b[39m \u001b[38;5;28mself\u001b[39m\u001b[38;5;241m.\u001b[39mmake_lex_dict()\n\u001b[1;32m    342\u001b[0m     \u001b[38;5;28mself\u001b[39m\u001b[38;5;241m.\u001b[39mconstants \u001b[38;5;241m=\u001b[39m VaderConstants()\n",
      "File \u001b[0;32m~/miniconda3/envs/ga/lib/python3.11/site-packages/nltk/data.py:750\u001b[0m, in \u001b[0;36mload\u001b[0;34m(resource_url, format, cache, verbose, logic_parser, fstruct_reader, encoding)\u001b[0m\n\u001b[1;32m    747\u001b[0m     \u001b[38;5;28mprint\u001b[39m(\u001b[38;5;124mf\u001b[39m\u001b[38;5;124m\"\u001b[39m\u001b[38;5;124m<<Loading \u001b[39m\u001b[38;5;132;01m{\u001b[39;00mresource_url\u001b[38;5;132;01m}\u001b[39;00m\u001b[38;5;124m>>\u001b[39m\u001b[38;5;124m\"\u001b[39m)\n\u001b[1;32m    749\u001b[0m \u001b[38;5;66;03m# Load the resource.\u001b[39;00m\n\u001b[0;32m--> 750\u001b[0m opened_resource \u001b[38;5;241m=\u001b[39m _open(resource_url)\n\u001b[1;32m    752\u001b[0m \u001b[38;5;28;01mif\u001b[39;00m \u001b[38;5;28mformat\u001b[39m \u001b[38;5;241m==\u001b[39m \u001b[38;5;124m\"\u001b[39m\u001b[38;5;124mraw\u001b[39m\u001b[38;5;124m\"\u001b[39m:\n\u001b[1;32m    753\u001b[0m     resource_val \u001b[38;5;241m=\u001b[39m opened_resource\u001b[38;5;241m.\u001b[39mread()\n",
      "File \u001b[0;32m~/miniconda3/envs/ga/lib/python3.11/site-packages/nltk/data.py:876\u001b[0m, in \u001b[0;36m_open\u001b[0;34m(resource_url)\u001b[0m\n\u001b[1;32m    873\u001b[0m protocol, path_ \u001b[38;5;241m=\u001b[39m split_resource_url(resource_url)\n\u001b[1;32m    875\u001b[0m \u001b[38;5;28;01mif\u001b[39;00m protocol \u001b[38;5;129;01mis\u001b[39;00m \u001b[38;5;28;01mNone\u001b[39;00m \u001b[38;5;129;01mor\u001b[39;00m protocol\u001b[38;5;241m.\u001b[39mlower() \u001b[38;5;241m==\u001b[39m \u001b[38;5;124m\"\u001b[39m\u001b[38;5;124mnltk\u001b[39m\u001b[38;5;124m\"\u001b[39m:\n\u001b[0;32m--> 876\u001b[0m     \u001b[38;5;28;01mreturn\u001b[39;00m find(path_, path \u001b[38;5;241m+\u001b[39m [\u001b[38;5;124m\"\u001b[39m\u001b[38;5;124m\"\u001b[39m])\u001b[38;5;241m.\u001b[39mopen()\n\u001b[1;32m    877\u001b[0m \u001b[38;5;28;01melif\u001b[39;00m protocol\u001b[38;5;241m.\u001b[39mlower() \u001b[38;5;241m==\u001b[39m \u001b[38;5;124m\"\u001b[39m\u001b[38;5;124mfile\u001b[39m\u001b[38;5;124m\"\u001b[39m:\n\u001b[1;32m    878\u001b[0m     \u001b[38;5;66;03m# urllib might not use mode='rb', so handle this one ourselves:\u001b[39;00m\n\u001b[1;32m    879\u001b[0m     \u001b[38;5;28;01mreturn\u001b[39;00m find(path_, [\u001b[38;5;124m\"\u001b[39m\u001b[38;5;124m\"\u001b[39m])\u001b[38;5;241m.\u001b[39mopen()\n",
      "File \u001b[0;32m~/miniconda3/envs/ga/lib/python3.11/site-packages/nltk/data.py:583\u001b[0m, in \u001b[0;36mfind\u001b[0;34m(resource_name, paths)\u001b[0m\n\u001b[1;32m    581\u001b[0m sep \u001b[38;5;241m=\u001b[39m \u001b[38;5;124m\"\u001b[39m\u001b[38;5;124m*\u001b[39m\u001b[38;5;124m\"\u001b[39m \u001b[38;5;241m*\u001b[39m \u001b[38;5;241m70\u001b[39m\n\u001b[1;32m    582\u001b[0m resource_not_found \u001b[38;5;241m=\u001b[39m \u001b[38;5;124mf\u001b[39m\u001b[38;5;124m\"\u001b[39m\u001b[38;5;130;01m\\n\u001b[39;00m\u001b[38;5;132;01m{\u001b[39;00msep\u001b[38;5;132;01m}\u001b[39;00m\u001b[38;5;130;01m\\n\u001b[39;00m\u001b[38;5;132;01m{\u001b[39;00mmsg\u001b[38;5;132;01m}\u001b[39;00m\u001b[38;5;130;01m\\n\u001b[39;00m\u001b[38;5;132;01m{\u001b[39;00msep\u001b[38;5;132;01m}\u001b[39;00m\u001b[38;5;130;01m\\n\u001b[39;00m\u001b[38;5;124m\"\u001b[39m\n\u001b[0;32m--> 583\u001b[0m \u001b[38;5;28;01mraise\u001b[39;00m \u001b[38;5;167;01mLookupError\u001b[39;00m(resource_not_found)\n",
      "\u001b[0;31mLookupError\u001b[0m: \n**********************************************************************\n  Resource \u001b[93mvader_lexicon\u001b[0m not found.\n  Please use the NLTK Downloader to obtain the resource:\n\n  \u001b[31m>>> import nltk\n  >>> nltk.download('vader_lexicon')\n  \u001b[0m\n  For more information see: https://www.nltk.org/data.html\n\n  Attempted to load \u001b[93msentiment/vader_lexicon.zip/vader_lexicon/vader_lexicon.txt\u001b[0m\n\n  Searched in:\n    - '/Users/cka/nltk_data'\n    - '/Users/cka/miniconda3/envs/ga/nltk_data'\n    - '/Users/cka/miniconda3/envs/ga/share/nltk_data'\n    - '/Users/cka/miniconda3/envs/ga/lib/nltk_data'\n    - '/usr/share/nltk_data'\n    - '/usr/local/share/nltk_data'\n    - '/usr/lib/nltk_data'\n    - '/usr/local/lib/nltk_data'\n    - ''\n**********************************************************************\n"
     ]
    }
   ],
   "source": [
    "# Instantiate Sentiment Intensity Analyzer\n",
    "df_news_articles['sentiment_column'] = df_news_articles['text'].apply(lambda x: sent.polarity_scores(x))\n",
    "sent = SentimentIntensityAnalyzer()"
   ]
  },
  {
   "cell_type": "code",
   "execution_count": 52,
   "metadata": {},
   "outputs": [
    {
     "ename": "NameError",
     "evalue": "name 'sent' is not defined",
     "output_type": "error",
     "traceback": [
      "\u001b[0;31m---------------------------------------------------------------------------\u001b[0m",
      "\u001b[0;31mNameError\u001b[0m                                 Traceback (most recent call last)",
      "Cell \u001b[0;32mIn[52], line 2\u001b[0m\n\u001b[1;32m      1\u001b[0m \u001b[38;5;66;03m# Calculate sentiment of text\u001b[39;00m\n\u001b[0;32m----> 2\u001b[0m sent\u001b[38;5;241m.\u001b[39mpolarity_scores(text)\n",
      "\u001b[0;31mNameError\u001b[0m: name 'sent' is not defined"
     ]
    }
   ],
   "source": [
    "# Calculate sentiment of text\n",
    "sent.polarity_scores(text)"
   ]
  },
  {
   "cell_type": "markdown",
   "metadata": {},
   "source": [
    "A couple things to note:\n",
    "1. NLP broadly describes: \n",
    "    - how we can get unstructured text data into a more structured form that can be interpreted by computers, and \n",
    "    - algorithms for interpreting text data.\n",
    "2. That does not mean these tools we used today work to the exclusion of other methods. You can and should include other variables in your model!\n",
    "    - For example, maybe the length of a review tells us something about how much people liked/disliked the movie, or maybe additional information about the reviewer (i.e. geography, age, how many reviews they had submitted) has predictive value."
   ]
  },
  {
   "cell_type": "markdown",
   "metadata": {},
   "source": []
  }
 ],
 "metadata": {
  "kernelspec": {
   "display_name": "Python 3 (ipykernel)",
   "language": "python",
   "name": "python3"
  },
  "language_info": {
   "codemirror_mode": {
    "name": "ipython",
    "version": 3
   },
   "file_extension": ".py",
   "mimetype": "text/x-python",
   "name": "python",
   "nbconvert_exporter": "python",
   "pygments_lexer": "ipython3",
   "version": "3.11.0"
  },
  "varInspector": {
   "cols": {
    "lenName": 16,
    "lenType": 16,
    "lenVar": 40
   },
   "kernels_config": {
    "python": {
     "delete_cmd_postfix": "",
     "delete_cmd_prefix": "del ",
     "library": "var_list.py",
     "varRefreshCmd": "print(var_dic_list())"
    },
    "r": {
     "delete_cmd_postfix": ") ",
     "delete_cmd_prefix": "rm(",
     "library": "var_list.r",
     "varRefreshCmd": "cat(var_dic_list()) "
    }
   },
   "oldHeight": 226,
   "position": {
    "height": "40px",
    "left": "1070px",
    "right": "20px",
    "top": "120px",
    "width": "333px"
   },
   "types_to_exclude": [
    "module",
    "function",
    "builtin_function_or_method",
    "instance",
    "_Feature"
   ],
   "varInspector_section_display": "none",
   "window_display": true
  }
 },
 "nbformat": 4,
 "nbformat_minor": 4
}
